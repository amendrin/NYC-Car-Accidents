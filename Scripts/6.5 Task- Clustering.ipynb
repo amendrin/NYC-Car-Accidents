{
 "cells": [
  {
   "cell_type": "markdown",
   "id": "507dce6b",
   "metadata": {},
   "source": [
    "# Table of Contents\n",
    "### 01. Import Libraries and Dataframe\n",
    "### 02. The Elbow Technique\n",
    "### 03. K-means clustering\n",
    "### 04. Export Dataset"
   ]
  },
  {
   "cell_type": "markdown",
   "id": "aeb5b51c",
   "metadata": {},
   "source": [
    "# 01. Import Libraries and Dataframe"
   ]
  },
  {
   "cell_type": "code",
   "execution_count": 1,
   "id": "e1886077",
   "metadata": {},
   "outputs": [],
   "source": [
    "import pandas as pd\n",
    "import numpy as np\n",
    "import os\n",
    "import seaborn as sns\n",
    "import matplotlib\n",
    "import matplotlib.pyplot as plt\n",
    "import sklearn\n",
    "from sklearn.cluster import KMeans # Here is where you import the k-means algorithm from scikit-learn.\n",
    "import pylab as pl # PyLab is a convenience module that bulk imports matplotlib.\n",
    "from sklearn.preprocessing import StandardScaler"
   ]
  },
  {
   "cell_type": "code",
   "execution_count": 2,
   "id": "0f7667bd",
   "metadata": {},
   "outputs": [],
   "source": [
    "# This option ensures the graphs you create are displayed in your notebook without the need to \"call\" them specifically.\n",
    "\n",
    "%matplotlib inline"
   ]
  },
  {
   "cell_type": "code",
   "execution_count": 3,
   "id": "d58db0a9",
   "metadata": {},
   "outputs": [],
   "source": [
    "# Project Pathway\n",
    "path= r'/Users/alexmendrin/Documents/Career Foundry/Data Immersion/Achievement 6/Project Folder'"
   ]
  },
  {
   "cell_type": "code",
   "execution_count": 4,
   "id": "b6b1c605",
   "metadata": {},
   "outputs": [],
   "source": [
    "# import dataframe\n",
    "vc= pd.read_pickle(os.path.join(path, '02 Data', 'Prepared Data', 'vehicle_collisions_cleaned.pkl'))"
   ]
  },
  {
   "cell_type": "code",
   "execution_count": 5,
   "id": "b41e16cb",
   "metadata": {},
   "outputs": [
    {
     "data": {
      "text/plain": [
       "(927852, 19)"
      ]
     },
     "execution_count": 5,
     "metadata": {},
     "output_type": "execute_result"
    }
   ],
   "source": [
    "vc.shape"
   ]
  },
  {
   "cell_type": "code",
   "execution_count": 6,
   "id": "8201bff8",
   "metadata": {
    "scrolled": false
   },
   "outputs": [
    {
     "data": {
      "text/html": [
       "<div>\n",
       "<style scoped>\n",
       "    .dataframe tbody tr th:only-of-type {\n",
       "        vertical-align: middle;\n",
       "    }\n",
       "\n",
       "    .dataframe tbody tr th {\n",
       "        vertical-align: top;\n",
       "    }\n",
       "\n",
       "    .dataframe thead th {\n",
       "        text-align: right;\n",
       "    }\n",
       "</style>\n",
       "<table border=\"1\" class=\"dataframe\">\n",
       "  <thead>\n",
       "    <tr style=\"text-align: right;\">\n",
       "      <th></th>\n",
       "      <th>date</th>\n",
       "      <th>time</th>\n",
       "      <th>borough</th>\n",
       "      <th>latitude</th>\n",
       "      <th>longitude</th>\n",
       "      <th>location</th>\n",
       "      <th>num_persons_injured</th>\n",
       "      <th>num_persons_killed</th>\n",
       "      <th>num_pedestrians_injured</th>\n",
       "      <th>num_pedestrians_killed</th>\n",
       "      <th>num_cyclist_injured</th>\n",
       "      <th>num_cyclist_killed</th>\n",
       "      <th>num_motorist_injured</th>\n",
       "      <th>num_motorist_killed</th>\n",
       "      <th>collision_id</th>\n",
       "      <th>contrib_factor_vehicle_1</th>\n",
       "      <th>contrib_factor_vehicle_2</th>\n",
       "      <th>vehicle_type_1</th>\n",
       "      <th>vehicle_type_2</th>\n",
       "    </tr>\n",
       "  </thead>\n",
       "  <tbody>\n",
       "    <tr>\n",
       "      <th>0</th>\n",
       "      <td>9/11/21</td>\n",
       "      <td>9:35</td>\n",
       "      <td>BROOKLYN</td>\n",
       "      <td>40.67</td>\n",
       "      <td>-73.87</td>\n",
       "      <td>(40.667202, -73.8665)</td>\n",
       "      <td>0</td>\n",
       "      <td>0</td>\n",
       "      <td>0</td>\n",
       "      <td>0</td>\n",
       "      <td>0</td>\n",
       "      <td>0</td>\n",
       "      <td>0</td>\n",
       "      <td>0</td>\n",
       "      <td>4456314</td>\n",
       "      <td>7.0</td>\n",
       "      <td>7.0</td>\n",
       "      <td>2.0</td>\n",
       "      <td>9.0</td>\n",
       "    </tr>\n",
       "    <tr>\n",
       "      <th>1</th>\n",
       "      <td>12/14/21</td>\n",
       "      <td>8:13</td>\n",
       "      <td>BROOKLYN</td>\n",
       "      <td>40.68</td>\n",
       "      <td>-73.92</td>\n",
       "      <td>(40.683304, -73.917274)</td>\n",
       "      <td>0</td>\n",
       "      <td>0</td>\n",
       "      <td>0</td>\n",
       "      <td>0</td>\n",
       "      <td>0</td>\n",
       "      <td>0</td>\n",
       "      <td>0</td>\n",
       "      <td>0</td>\n",
       "      <td>4486609</td>\n",
       "      <td>7.0</td>\n",
       "      <td>7.0</td>\n",
       "      <td>9.0</td>\n",
       "      <td>9.0</td>\n",
       "    </tr>\n",
       "    <tr>\n",
       "      <th>2</th>\n",
       "      <td>12/14/21</td>\n",
       "      <td>17:05</td>\n",
       "      <td>NaN</td>\n",
       "      <td>40.71</td>\n",
       "      <td>-73.96</td>\n",
       "      <td>(40.709183, -73.956825)</td>\n",
       "      <td>0</td>\n",
       "      <td>0</td>\n",
       "      <td>0</td>\n",
       "      <td>0</td>\n",
       "      <td>0</td>\n",
       "      <td>0</td>\n",
       "      <td>0</td>\n",
       "      <td>0</td>\n",
       "      <td>4486555</td>\n",
       "      <td>2.0</td>\n",
       "      <td>7.0</td>\n",
       "      <td>3.0</td>\n",
       "      <td>6.0</td>\n",
       "    </tr>\n",
       "    <tr>\n",
       "      <th>3</th>\n",
       "      <td>12/14/21</td>\n",
       "      <td>8:17</td>\n",
       "      <td>BRONX</td>\n",
       "      <td>40.87</td>\n",
       "      <td>-73.83</td>\n",
       "      <td>(40.86816, -73.83148)</td>\n",
       "      <td>2</td>\n",
       "      <td>0</td>\n",
       "      <td>0</td>\n",
       "      <td>0</td>\n",
       "      <td>0</td>\n",
       "      <td>0</td>\n",
       "      <td>2</td>\n",
       "      <td>0</td>\n",
       "      <td>4486660</td>\n",
       "      <td>7.0</td>\n",
       "      <td>7.0</td>\n",
       "      <td>3.0</td>\n",
       "      <td>3.0</td>\n",
       "    </tr>\n",
       "    <tr>\n",
       "      <th>4</th>\n",
       "      <td>12/14/21</td>\n",
       "      <td>21:10</td>\n",
       "      <td>BROOKLYN</td>\n",
       "      <td>40.67</td>\n",
       "      <td>-73.90</td>\n",
       "      <td>(40.67172, -73.8971)</td>\n",
       "      <td>0</td>\n",
       "      <td>0</td>\n",
       "      <td>0</td>\n",
       "      <td>0</td>\n",
       "      <td>0</td>\n",
       "      <td>0</td>\n",
       "      <td>0</td>\n",
       "      <td>0</td>\n",
       "      <td>4487074</td>\n",
       "      <td>2.0</td>\n",
       "      <td>7.0</td>\n",
       "      <td>3.0</td>\n",
       "      <td>9.0</td>\n",
       "    </tr>\n",
       "  </tbody>\n",
       "</table>\n",
       "</div>"
      ],
      "text/plain": [
       "       date   time   borough  latitude  longitude                 location  \\\n",
       "0   9/11/21   9:35  BROOKLYN     40.67     -73.87    (40.667202, -73.8665)   \n",
       "1  12/14/21   8:13  BROOKLYN     40.68     -73.92  (40.683304, -73.917274)   \n",
       "2  12/14/21  17:05       NaN     40.71     -73.96  (40.709183, -73.956825)   \n",
       "3  12/14/21   8:17     BRONX     40.87     -73.83    (40.86816, -73.83148)   \n",
       "4  12/14/21  21:10  BROOKLYN     40.67     -73.90     (40.67172, -73.8971)   \n",
       "\n",
       "   num_persons_injured  num_persons_killed  num_pedestrians_injured  \\\n",
       "0                    0                   0                        0   \n",
       "1                    0                   0                        0   \n",
       "2                    0                   0                        0   \n",
       "3                    2                   0                        0   \n",
       "4                    0                   0                        0   \n",
       "\n",
       "   num_pedestrians_killed  num_cyclist_injured  num_cyclist_killed  \\\n",
       "0                       0                    0                   0   \n",
       "1                       0                    0                   0   \n",
       "2                       0                    0                   0   \n",
       "3                       0                    0                   0   \n",
       "4                       0                    0                   0   \n",
       "\n",
       "   num_motorist_injured  num_motorist_killed  collision_id  \\\n",
       "0                     0                    0       4456314   \n",
       "1                     0                    0       4486609   \n",
       "2                     0                    0       4486555   \n",
       "3                     2                    0       4486660   \n",
       "4                     0                    0       4487074   \n",
       "\n",
       "   contrib_factor_vehicle_1  contrib_factor_vehicle_2  vehicle_type_1  \\\n",
       "0                       7.0                       7.0             2.0   \n",
       "1                       7.0                       7.0             9.0   \n",
       "2                       2.0                       7.0             3.0   \n",
       "3                       7.0                       7.0             3.0   \n",
       "4                       2.0                       7.0             3.0   \n",
       "\n",
       "   vehicle_type_2  \n",
       "0             9.0  \n",
       "1             9.0  \n",
       "2             6.0  \n",
       "3             3.0  \n",
       "4             9.0  "
      ]
     },
     "execution_count": 6,
     "metadata": {},
     "output_type": "execute_result"
    }
   ],
   "source": [
    "vc.head()"
   ]
  },
  {
   "cell_type": "code",
   "execution_count": 7,
   "id": "27bb456a",
   "metadata": {
    "scrolled": false
   },
   "outputs": [
    {
     "data": {
      "text/html": [
       "<div>\n",
       "<style scoped>\n",
       "    .dataframe tbody tr th:only-of-type {\n",
       "        vertical-align: middle;\n",
       "    }\n",
       "\n",
       "    .dataframe tbody tr th {\n",
       "        vertical-align: top;\n",
       "    }\n",
       "\n",
       "    .dataframe thead th {\n",
       "        text-align: right;\n",
       "    }\n",
       "</style>\n",
       "<table border=\"1\" class=\"dataframe\">\n",
       "  <thead>\n",
       "    <tr style=\"text-align: right;\">\n",
       "      <th></th>\n",
       "      <th>date</th>\n",
       "      <th>time</th>\n",
       "      <th>borough</th>\n",
       "      <th>latitude</th>\n",
       "      <th>longitude</th>\n",
       "      <th>location</th>\n",
       "      <th>num_persons_injured</th>\n",
       "      <th>num_persons_killed</th>\n",
       "      <th>num_pedestrians_injured</th>\n",
       "      <th>num_pedestrians_killed</th>\n",
       "      <th>num_cyclist_injured</th>\n",
       "      <th>num_cyclist_killed</th>\n",
       "      <th>num_motorist_injured</th>\n",
       "      <th>num_motorist_killed</th>\n",
       "      <th>collision_id</th>\n",
       "      <th>contrib_factor_vehicle_1</th>\n",
       "      <th>contrib_factor_vehicle_2</th>\n",
       "      <th>vehicle_type_1</th>\n",
       "      <th>vehicle_type_2</th>\n",
       "    </tr>\n",
       "  </thead>\n",
       "  <tbody>\n",
       "    <tr>\n",
       "      <th>0</th>\n",
       "      <td>9/11/21</td>\n",
       "      <td>9:35</td>\n",
       "      <td>Brooklyn</td>\n",
       "      <td>40.67</td>\n",
       "      <td>-73.87</td>\n",
       "      <td>(40.667202, -73.8665)</td>\n",
       "      <td>0</td>\n",
       "      <td>0</td>\n",
       "      <td>0</td>\n",
       "      <td>0</td>\n",
       "      <td>0</td>\n",
       "      <td>0</td>\n",
       "      <td>0</td>\n",
       "      <td>0</td>\n",
       "      <td>4456314</td>\n",
       "      <td>7.0</td>\n",
       "      <td>7.0</td>\n",
       "      <td>2.0</td>\n",
       "      <td>9.0</td>\n",
       "    </tr>\n",
       "    <tr>\n",
       "      <th>1</th>\n",
       "      <td>12/14/21</td>\n",
       "      <td>8:13</td>\n",
       "      <td>Brooklyn</td>\n",
       "      <td>40.68</td>\n",
       "      <td>-73.92</td>\n",
       "      <td>(40.683304, -73.917274)</td>\n",
       "      <td>0</td>\n",
       "      <td>0</td>\n",
       "      <td>0</td>\n",
       "      <td>0</td>\n",
       "      <td>0</td>\n",
       "      <td>0</td>\n",
       "      <td>0</td>\n",
       "      <td>0</td>\n",
       "      <td>4486609</td>\n",
       "      <td>7.0</td>\n",
       "      <td>7.0</td>\n",
       "      <td>9.0</td>\n",
       "      <td>9.0</td>\n",
       "    </tr>\n",
       "    <tr>\n",
       "      <th>2</th>\n",
       "      <td>12/14/21</td>\n",
       "      <td>17:05</td>\n",
       "      <td>NaN</td>\n",
       "      <td>40.71</td>\n",
       "      <td>-73.96</td>\n",
       "      <td>(40.709183, -73.956825)</td>\n",
       "      <td>0</td>\n",
       "      <td>0</td>\n",
       "      <td>0</td>\n",
       "      <td>0</td>\n",
       "      <td>0</td>\n",
       "      <td>0</td>\n",
       "      <td>0</td>\n",
       "      <td>0</td>\n",
       "      <td>4486555</td>\n",
       "      <td>2.0</td>\n",
       "      <td>7.0</td>\n",
       "      <td>3.0</td>\n",
       "      <td>6.0</td>\n",
       "    </tr>\n",
       "    <tr>\n",
       "      <th>3</th>\n",
       "      <td>12/14/21</td>\n",
       "      <td>8:17</td>\n",
       "      <td>Bronx</td>\n",
       "      <td>40.87</td>\n",
       "      <td>-73.83</td>\n",
       "      <td>(40.86816, -73.83148)</td>\n",
       "      <td>2</td>\n",
       "      <td>0</td>\n",
       "      <td>0</td>\n",
       "      <td>0</td>\n",
       "      <td>0</td>\n",
       "      <td>0</td>\n",
       "      <td>2</td>\n",
       "      <td>0</td>\n",
       "      <td>4486660</td>\n",
       "      <td>7.0</td>\n",
       "      <td>7.0</td>\n",
       "      <td>3.0</td>\n",
       "      <td>3.0</td>\n",
       "    </tr>\n",
       "    <tr>\n",
       "      <th>4</th>\n",
       "      <td>12/14/21</td>\n",
       "      <td>21:10</td>\n",
       "      <td>Brooklyn</td>\n",
       "      <td>40.67</td>\n",
       "      <td>-73.90</td>\n",
       "      <td>(40.67172, -73.8971)</td>\n",
       "      <td>0</td>\n",
       "      <td>0</td>\n",
       "      <td>0</td>\n",
       "      <td>0</td>\n",
       "      <td>0</td>\n",
       "      <td>0</td>\n",
       "      <td>0</td>\n",
       "      <td>0</td>\n",
       "      <td>4487074</td>\n",
       "      <td>2.0</td>\n",
       "      <td>7.0</td>\n",
       "      <td>3.0</td>\n",
       "      <td>9.0</td>\n",
       "    </tr>\n",
       "  </tbody>\n",
       "</table>\n",
       "</div>"
      ],
      "text/plain": [
       "       date   time   borough  latitude  longitude                 location  \\\n",
       "0   9/11/21   9:35  Brooklyn     40.67     -73.87    (40.667202, -73.8665)   \n",
       "1  12/14/21   8:13  Brooklyn     40.68     -73.92  (40.683304, -73.917274)   \n",
       "2  12/14/21  17:05       NaN     40.71     -73.96  (40.709183, -73.956825)   \n",
       "3  12/14/21   8:17     Bronx     40.87     -73.83    (40.86816, -73.83148)   \n",
       "4  12/14/21  21:10  Brooklyn     40.67     -73.90     (40.67172, -73.8971)   \n",
       "\n",
       "   num_persons_injured  num_persons_killed  num_pedestrians_injured  \\\n",
       "0                    0                   0                        0   \n",
       "1                    0                   0                        0   \n",
       "2                    0                   0                        0   \n",
       "3                    2                   0                        0   \n",
       "4                    0                   0                        0   \n",
       "\n",
       "   num_pedestrians_killed  num_cyclist_injured  num_cyclist_killed  \\\n",
       "0                       0                    0                   0   \n",
       "1                       0                    0                   0   \n",
       "2                       0                    0                   0   \n",
       "3                       0                    0                   0   \n",
       "4                       0                    0                   0   \n",
       "\n",
       "   num_motorist_injured  num_motorist_killed  collision_id  \\\n",
       "0                     0                    0       4456314   \n",
       "1                     0                    0       4486609   \n",
       "2                     0                    0       4486555   \n",
       "3                     2                    0       4486660   \n",
       "4                     0                    0       4487074   \n",
       "\n",
       "   contrib_factor_vehicle_1  contrib_factor_vehicle_2  vehicle_type_1  \\\n",
       "0                       7.0                       7.0             2.0   \n",
       "1                       7.0                       7.0             9.0   \n",
       "2                       2.0                       7.0             3.0   \n",
       "3                       7.0                       7.0             3.0   \n",
       "4                       2.0                       7.0             3.0   \n",
       "\n",
       "   vehicle_type_2  \n",
       "0             9.0  \n",
       "1             9.0  \n",
       "2             6.0  \n",
       "3             3.0  \n",
       "4             9.0  "
      ]
     },
     "execution_count": 7,
     "metadata": {},
     "output_type": "execute_result"
    }
   ],
   "source": [
    "# Fix borough value format\n",
    "vc['borough']=vc['borough'].str.title()\n",
    "vc.head()"
   ]
  },
  {
   "cell_type": "code",
   "execution_count": 8,
   "id": "32952376",
   "metadata": {},
   "outputs": [],
   "source": [
    "# Remove categoricl variables\n",
    "vc= vc.drop(columns=['date', 'time', 'borough', 'latitude', 'longitude', 'location', 'collision_id', 'contrib_factor_vehicle_1', 'contrib_factor_vehicle_2', 'vehicle_type_1', 'vehicle_type_2'])"
   ]
  },
  {
   "cell_type": "markdown",
   "id": "9cb12509",
   "metadata": {},
   "source": [
    "# 02. The Elbow Technique"
   ]
  },
  {
   "cell_type": "code",
   "execution_count": 9,
   "id": "e826fa91",
   "metadata": {},
   "outputs": [],
   "source": [
    "num_cl = range(1, 10) # Defines the range of potential clusters in the data.\n",
    "kmeans = [KMeans(n_clusters=i) for i in num_cl] # Defines k-means clusters in the range assigned above."
   ]
  },
  {
   "cell_type": "markdown",
   "id": "f726e50f",
   "metadata": {},
   "source": [
    "#### Whole dataset"
   ]
  },
  {
   "cell_type": "code",
   "execution_count": 11,
   "id": "b2c961d7",
   "metadata": {},
   "outputs": [
    {
     "data": {
      "text/plain": [
       "[-941773.914294076,\n",
       " -423324.54076205427,\n",
       " -223111.43068422403,\n",
       " -144421.4819951845,\n",
       " -99260.4914414136,\n",
       " -56678.56113948529,\n",
       " -36728.38234336453,\n",
       " -27692.589685962,\n",
       " -22116.13807402123]"
      ]
     },
     "execution_count": 11,
     "metadata": {},
     "output_type": "execute_result"
    }
   ],
   "source": [
    "score1 = [kmeans[i].fit(vc).score(vc) for i in range(len(kmeans))] \n",
    "# Creates a score that represents a rate of variation for the given cluster option.\n",
    "\n",
    "score1"
   ]
  },
  {
   "cell_type": "code",
   "execution_count": 12,
   "id": "eb9b5d5c",
   "metadata": {},
   "outputs": [
    {
     "data": {
      "image/png": "[encoded data removed]",
      "text/plain": [
       "<Figure size 432x288 with 1 Axes>"
      ]
     },
     "metadata": {
      "needs_background": "light"
     },
     "output_type": "display_data"
    }
   ],
   "source": [
    "# Plot the elbow curve using PyLab.\n",
    "\n",
    "pl.plot(num_cl,score1)\n",
    "pl.xlabel('Number of Clusters')\n",
    "pl.ylabel('Score')\n",
    "pl.title('Elbow Curve')\n",
    "pl.show()"
   ]
  },
  {
   "cell_type": "markdown",
   "id": "9d80c41d",
   "metadata": {},
   "source": [
    "#### The optimal count for clusters is seven, as this is where the elbow curve begins to straighten out¶"
   ]
  },
  {
   "cell_type": "markdown",
   "id": "945d0051",
   "metadata": {},
   "source": [
    "#### Scale the data"
   ]
  },
  {
   "cell_type": "code",
   "execution_count": 13,
   "id": "c2854ffb",
   "metadata": {},
   "outputs": [],
   "source": [
    "scaler = StandardScaler()"
   ]
  },
  {
   "cell_type": "code",
   "execution_count": 14,
   "id": "b99d0a39",
   "metadata": {},
   "outputs": [],
   "source": [
    "columns= ['num_persons_injured', 'num_persons_killed', 'num_pedestrians_injured', 'num_pedestrians_killed', 'num_cyclist_injured', 'num_cyclist_killed', 'num_motorist_injured', 'num_motorist_killed']"
   ]
  },
  {
   "cell_type": "code",
   "execution_count": 15,
   "id": "82c10b73",
   "metadata": {},
   "outputs": [
    {
     "data": {
      "text/html": [
       "<div>\n",
       "<style scoped>\n",
       "    .dataframe tbody tr th:only-of-type {\n",
       "        vertical-align: middle;\n",
       "    }\n",
       "\n",
       "    .dataframe tbody tr th {\n",
       "        vertical-align: top;\n",
       "    }\n",
       "\n",
       "    .dataframe thead th {\n",
       "        text-align: right;\n",
       "    }\n",
       "</style>\n",
       "<table border=\"1\" class=\"dataframe\">\n",
       "  <thead>\n",
       "    <tr style=\"text-align: right;\">\n",
       "      <th></th>\n",
       "      <th>num_persons_injured</th>\n",
       "      <th>num_persons_killed</th>\n",
       "      <th>num_pedestrians_injured</th>\n",
       "      <th>num_pedestrians_killed</th>\n",
       "      <th>num_cyclist_injured</th>\n",
       "      <th>num_cyclist_killed</th>\n",
       "      <th>num_motorist_injured</th>\n",
       "      <th>num_motorist_killed</th>\n",
       "    </tr>\n",
       "  </thead>\n",
       "  <tbody>\n",
       "    <tr>\n",
       "      <th>0</th>\n",
       "      <td>-0.459428</td>\n",
       "      <td>-0.035957</td>\n",
       "      <td>-0.230856</td>\n",
       "      <td>-0.025786</td>\n",
       "      <td>-0.171884</td>\n",
       "      <td>-0.011038</td>\n",
       "      <td>-0.350553</td>\n",
       "      <td>-0.022728</td>\n",
       "    </tr>\n",
       "    <tr>\n",
       "      <th>1</th>\n",
       "      <td>-0.459428</td>\n",
       "      <td>-0.035957</td>\n",
       "      <td>-0.230856</td>\n",
       "      <td>-0.025786</td>\n",
       "      <td>-0.171884</td>\n",
       "      <td>-0.011038</td>\n",
       "      <td>-0.350553</td>\n",
       "      <td>-0.022728</td>\n",
       "    </tr>\n",
       "    <tr>\n",
       "      <th>2</th>\n",
       "      <td>-0.459428</td>\n",
       "      <td>-0.035957</td>\n",
       "      <td>-0.230856</td>\n",
       "      <td>-0.025786</td>\n",
       "      <td>-0.171884</td>\n",
       "      <td>-0.011038</td>\n",
       "      <td>-0.350553</td>\n",
       "      <td>-0.022728</td>\n",
       "    </tr>\n",
       "    <tr>\n",
       "      <th>3</th>\n",
       "      <td>2.403969</td>\n",
       "      <td>-0.035957</td>\n",
       "      <td>-0.230856</td>\n",
       "      <td>-0.025786</td>\n",
       "      <td>-0.171884</td>\n",
       "      <td>-0.011038</td>\n",
       "      <td>2.680762</td>\n",
       "      <td>-0.022728</td>\n",
       "    </tr>\n",
       "    <tr>\n",
       "      <th>4</th>\n",
       "      <td>-0.459428</td>\n",
       "      <td>-0.035957</td>\n",
       "      <td>-0.230856</td>\n",
       "      <td>-0.025786</td>\n",
       "      <td>-0.171884</td>\n",
       "      <td>-0.011038</td>\n",
       "      <td>-0.350553</td>\n",
       "      <td>-0.022728</td>\n",
       "    </tr>\n",
       "  </tbody>\n",
       "</table>\n",
       "</div>"
      ],
      "text/plain": [
       "   num_persons_injured  num_persons_killed  num_pedestrians_injured  \\\n",
       "0            -0.459428           -0.035957                -0.230856   \n",
       "1            -0.459428           -0.035957                -0.230856   \n",
       "2            -0.459428           -0.035957                -0.230856   \n",
       "3             2.403969           -0.035957                -0.230856   \n",
       "4            -0.459428           -0.035957                -0.230856   \n",
       "\n",
       "   num_pedestrians_killed  num_cyclist_injured  num_cyclist_killed  \\\n",
       "0               -0.025786            -0.171884           -0.011038   \n",
       "1               -0.025786            -0.171884           -0.011038   \n",
       "2               -0.025786            -0.171884           -0.011038   \n",
       "3               -0.025786            -0.171884           -0.011038   \n",
       "4               -0.025786            -0.171884           -0.011038   \n",
       "\n",
       "   num_motorist_injured  num_motorist_killed  \n",
       "0             -0.350553            -0.022728  \n",
       "1             -0.350553            -0.022728  \n",
       "2             -0.350553            -0.022728  \n",
       "3              2.680762            -0.022728  \n",
       "4             -0.350553            -0.022728  "
      ]
     },
     "execution_count": 15,
     "metadata": {},
     "output_type": "execute_result"
    }
   ],
   "source": [
    "# scale the data\n",
    "vc_scaled = pd.DataFrame(scaler.fit_transform(vc), columns=columns)\n",
    "vc_scaled.head()"
   ]
  },
  {
   "cell_type": "code",
   "execution_count": 16,
   "id": "deea3d29",
   "metadata": {},
   "outputs": [
    {
     "data": {
      "text/plain": [
       "[-7422815.999975884,\n",
       " -6086131.2275934,\n",
       " -4952002.893094987,\n",
       " -3787872.427844989,\n",
       " -2827954.213637462,\n",
       " -1858386.6159744738,\n",
       " -909051.7899279635,\n",
       " -547064.7400314618,\n",
       " -432741.2787593712]"
      ]
     },
     "execution_count": 16,
     "metadata": {},
     "output_type": "execute_result"
    }
   ],
   "source": [
    "score = [kmeans[i].fit(vc_scaled).score(vc_scaled) for i in range(len(kmeans))] \n",
    "# Creates a score that represents a rate of variation for the given cluster option.\n",
    "\n",
    "score"
   ]
  },
  {
   "cell_type": "code",
   "execution_count": 17,
   "id": "3a270b7a",
   "metadata": {},
   "outputs": [
    {
     "data": {
      "image/png": "[encoded data removed]",
      "text/plain": [
       "<Figure size 432x288 with 1 Axes>"
      ]
     },
     "metadata": {
      "needs_background": "light"
     },
     "output_type": "display_data"
    }
   ],
   "source": [
    "# Plot the elbow curve using PyLab.\n",
    "\n",
    "pl.plot(num_cl,score)\n",
    "pl.xlabel('Number of Clusters')\n",
    "pl.ylabel('Score')\n",
    "pl.title('Elbow Curve')\n",
    "pl.show()"
   ]
  },
  {
   "cell_type": "markdown",
   "id": "376d71b7",
   "metadata": {},
   "source": [
    "#### The optimal count for clusters is seven, as this is where the elbow curve begins to straighten out"
   ]
  },
  {
   "cell_type": "markdown",
   "id": "5df0c961",
   "metadata": {},
   "source": [
    "# 03. K-means Clustering"
   ]
  },
  {
   "cell_type": "markdown",
   "id": "04efca8f",
   "metadata": {},
   "source": [
    "#### K-mean on complete dataset"
   ]
  },
  {
   "cell_type": "code",
   "execution_count": 18,
   "id": "c1272993",
   "metadata": {},
   "outputs": [],
   "source": [
    "# Create the k-means object.\n",
    "\n",
    "kmeans1 = KMeans(n_clusters = 3) "
   ]
  },
  {
   "cell_type": "code",
   "execution_count": 19,
   "id": "b3898afe",
   "metadata": {},
   "outputs": [
    {
     "data": {
      "text/plain": [
       "KMeans(n_clusters=3)"
      ]
     },
     "execution_count": 19,
     "metadata": {},
     "output_type": "execute_result"
    }
   ],
   "source": [
    "# Fit the k-means object to the data.\n",
    "\n",
    "kmeans1.fit(vc)"
   ]
  },
  {
   "cell_type": "code",
   "execution_count": 20,
   "id": "e2393dcf",
   "metadata": {},
   "outputs": [],
   "source": [
    "vc['clusters'] = kmeans1.fit_predict(vc)"
   ]
  },
  {
   "cell_type": "code",
   "execution_count": 21,
   "id": "a88ff9a2",
   "metadata": {},
   "outputs": [
    {
     "data": {
      "text/html": [
       "<div>\n",
       "<style scoped>\n",
       "    .dataframe tbody tr th:only-of-type {\n",
       "        vertical-align: middle;\n",
       "    }\n",
       "\n",
       "    .dataframe tbody tr th {\n",
       "        vertical-align: top;\n",
       "    }\n",
       "\n",
       "    .dataframe thead th {\n",
       "        text-align: right;\n",
       "    }\n",
       "</style>\n",
       "<table border=\"1\" class=\"dataframe\">\n",
       "  <thead>\n",
       "    <tr style=\"text-align: right;\">\n",
       "      <th></th>\n",
       "      <th>num_persons_injured</th>\n",
       "      <th>num_persons_killed</th>\n",
       "      <th>num_pedestrians_injured</th>\n",
       "      <th>num_pedestrians_killed</th>\n",
       "      <th>num_cyclist_injured</th>\n",
       "      <th>num_cyclist_killed</th>\n",
       "      <th>num_motorist_injured</th>\n",
       "      <th>num_motorist_killed</th>\n",
       "      <th>clusters</th>\n",
       "    </tr>\n",
       "  </thead>\n",
       "  <tbody>\n",
       "    <tr>\n",
       "      <th>0</th>\n",
       "      <td>0</td>\n",
       "      <td>0</td>\n",
       "      <td>0</td>\n",
       "      <td>0</td>\n",
       "      <td>0</td>\n",
       "      <td>0</td>\n",
       "      <td>0</td>\n",
       "      <td>0</td>\n",
       "      <td>0</td>\n",
       "    </tr>\n",
       "    <tr>\n",
       "      <th>1</th>\n",
       "      <td>0</td>\n",
       "      <td>0</td>\n",
       "      <td>0</td>\n",
       "      <td>0</td>\n",
       "      <td>0</td>\n",
       "      <td>0</td>\n",
       "      <td>0</td>\n",
       "      <td>0</td>\n",
       "      <td>0</td>\n",
       "    </tr>\n",
       "    <tr>\n",
       "      <th>2</th>\n",
       "      <td>0</td>\n",
       "      <td>0</td>\n",
       "      <td>0</td>\n",
       "      <td>0</td>\n",
       "      <td>0</td>\n",
       "      <td>0</td>\n",
       "      <td>0</td>\n",
       "      <td>0</td>\n",
       "      <td>0</td>\n",
       "    </tr>\n",
       "    <tr>\n",
       "      <th>3</th>\n",
       "      <td>2</td>\n",
       "      <td>0</td>\n",
       "      <td>0</td>\n",
       "      <td>0</td>\n",
       "      <td>0</td>\n",
       "      <td>0</td>\n",
       "      <td>2</td>\n",
       "      <td>0</td>\n",
       "      <td>1</td>\n",
       "    </tr>\n",
       "    <tr>\n",
       "      <th>4</th>\n",
       "      <td>0</td>\n",
       "      <td>0</td>\n",
       "      <td>0</td>\n",
       "      <td>0</td>\n",
       "      <td>0</td>\n",
       "      <td>0</td>\n",
       "      <td>0</td>\n",
       "      <td>0</td>\n",
       "      <td>0</td>\n",
       "    </tr>\n",
       "  </tbody>\n",
       "</table>\n",
       "</div>"
      ],
      "text/plain": [
       "   num_persons_injured  num_persons_killed  num_pedestrians_injured  \\\n",
       "0                    0                   0                        0   \n",
       "1                    0                   0                        0   \n",
       "2                    0                   0                        0   \n",
       "3                    2                   0                        0   \n",
       "4                    0                   0                        0   \n",
       "\n",
       "   num_pedestrians_killed  num_cyclist_injured  num_cyclist_killed  \\\n",
       "0                       0                    0                   0   \n",
       "1                       0                    0                   0   \n",
       "2                       0                    0                   0   \n",
       "3                       0                    0                   0   \n",
       "4                       0                    0                   0   \n",
       "\n",
       "   num_motorist_injured  num_motorist_killed  clusters  \n",
       "0                     0                    0         0  \n",
       "1                     0                    0         0  \n",
       "2                     0                    0         0  \n",
       "3                     2                    0         1  \n",
       "4                     0                    0         0  "
      ]
     },
     "execution_count": 21,
     "metadata": {},
     "output_type": "execute_result"
    }
   ],
   "source": [
    "vc.head()"
   ]
  },
  {
   "cell_type": "code",
   "execution_count": 22,
   "id": "6267b754",
   "metadata": {},
   "outputs": [
    {
     "data": {
      "text/plain": [
       "0    783168\n",
       "2     98886\n",
       "1     45798\n",
       "Name: clusters, dtype: int64"
      ]
     },
     "execution_count": 22,
     "metadata": {},
     "output_type": "execute_result"
    }
   ],
   "source": [
    "vc['clusters'].value_counts()"
   ]
  },
  {
   "cell_type": "code",
   "execution_count": 24,
   "id": "76de7d4a",
   "metadata": {},
   "outputs": [
    {
     "data": {
      "image/png": "[encoded data removed]",
      "text/plain": [
       "<Figure size 864x576 with 1 Axes>"
      ]
     },
     "metadata": {
      "needs_background": "light"
     },
     "output_type": "display_data"
    }
   ],
   "source": [
    "# Plot the clusters for the \"num_persons_injured\" and \"num_persons_killed\" variables.\n",
    "\n",
    "plt.figure(figsize=(12,8))\n",
    "ax1 = sns.scatterplot(x=vc['num_persons_injured'], y=vc['num_persons_killed'], hue=kmeans1.labels_, s=100) \n",
    "# Here, you're subsetting `X` for the x and y arguments to avoid using their labels. \n",
    "# `hue` takes the value of the attribute `kmeans.labels_`, which is the result of running the k-means algorithm.\n",
    "# `s` represents the size of the points you want to see in the plot.\n",
    "\n",
    "ax1.grid(False) # This removes the grid from the background.\n",
    "plt.xlabel('Number of Persons Injured') # Label x-axis.\n",
    "plt.ylabel('Number of Persons Killed') # Label y-axis.\n",
    "plt.show()"
   ]
  },
  {
   "cell_type": "markdown",
   "id": "372c2c22",
   "metadata": {},
   "source": [
    "#### Overall, it does not seem like there is a direct correlation between the number of persons killed and injured in an incident. The largest group (dark purple) shows when more than 3 people are injured in an accident that a majority of the time there are still no fatalities. The light pink group indicates that even when no people are injured in an accident, there may still be people killed.\n"
   ]
  },
  {
   "cell_type": "code",
   "execution_count": 25,
   "id": "6957aae9",
   "metadata": {},
   "outputs": [],
   "source": [
    "vc.loc[vc['clusters'] == 0, 'cluster'] = 'light pink'\n",
    "vc.loc[vc['clusters'] == 1, 'cluster'] = 'purple'\n",
    "vc.loc[vc['clusters'] == 2, 'cluster'] = 'dark purple'"
   ]
  },
  {
   "cell_type": "code",
   "execution_count": 26,
   "id": "a418b72a",
   "metadata": {
    "scrolled": true
   },
   "outputs": [
    {
     "data": {
      "text/html": [
       "<div>\n",
       "<style scoped>\n",
       "    .dataframe tbody tr th:only-of-type {\n",
       "        vertical-align: middle;\n",
       "    }\n",
       "\n",
       "    .dataframe tbody tr th {\n",
       "        vertical-align: top;\n",
       "    }\n",
       "\n",
       "    .dataframe thead tr th {\n",
       "        text-align: left;\n",
       "    }\n",
       "\n",
       "    .dataframe thead tr:last-of-type th {\n",
       "        text-align: right;\n",
       "    }\n",
       "</style>\n",
       "<table border=\"1\" class=\"dataframe\">\n",
       "  <thead>\n",
       "    <tr>\n",
       "      <th></th>\n",
       "      <th colspan=\"2\" halign=\"left\">num_persons_injured</th>\n",
       "      <th colspan=\"2\" halign=\"left\">num_persons_killed</th>\n",
       "      <th colspan=\"2\" halign=\"left\">num_pedestrians_injured</th>\n",
       "      <th colspan=\"2\" halign=\"left\">num_pedestrians_killed</th>\n",
       "      <th colspan=\"2\" halign=\"left\">num_cyclist_injured</th>\n",
       "      <th colspan=\"2\" halign=\"left\">num_cyclist_killed</th>\n",
       "      <th colspan=\"2\" halign=\"left\">num_motorist_injured</th>\n",
       "      <th colspan=\"2\" halign=\"left\">num_motorist_killed</th>\n",
       "    </tr>\n",
       "    <tr>\n",
       "      <th></th>\n",
       "      <th>mean</th>\n",
       "      <th>median</th>\n",
       "      <th>mean</th>\n",
       "      <th>median</th>\n",
       "      <th>mean</th>\n",
       "      <th>median</th>\n",
       "      <th>mean</th>\n",
       "      <th>median</th>\n",
       "      <th>mean</th>\n",
       "      <th>median</th>\n",
       "      <th>mean</th>\n",
       "      <th>median</th>\n",
       "      <th>mean</th>\n",
       "      <th>median</th>\n",
       "      <th>mean</th>\n",
       "      <th>median</th>\n",
       "    </tr>\n",
       "    <tr>\n",
       "      <th>cluster</th>\n",
       "      <th></th>\n",
       "      <th></th>\n",
       "      <th></th>\n",
       "      <th></th>\n",
       "      <th></th>\n",
       "      <th></th>\n",
       "      <th></th>\n",
       "      <th></th>\n",
       "      <th></th>\n",
       "      <th></th>\n",
       "      <th></th>\n",
       "      <th></th>\n",
       "      <th></th>\n",
       "      <th></th>\n",
       "      <th></th>\n",
       "      <th></th>\n",
       "    </tr>\n",
       "  </thead>\n",
       "  <tbody>\n",
       "    <tr>\n",
       "      <th>dark purple</th>\n",
       "      <td>1.033544</td>\n",
       "      <td>1.0</td>\n",
       "      <td>0.001800</td>\n",
       "      <td>0.0</td>\n",
       "      <td>0.042514</td>\n",
       "      <td>0.0</td>\n",
       "      <td>0.000536</td>\n",
       "      <td>0.0</td>\n",
       "      <td>0.011063</td>\n",
       "      <td>0.0</td>\n",
       "      <td>0.000051</td>\n",
       "      <td>0.0</td>\n",
       "      <td>0.975699</td>\n",
       "      <td>1.0</td>\n",
       "      <td>0.001224</td>\n",
       "      <td>0.0</td>\n",
       "    </tr>\n",
       "    <tr>\n",
       "      <th>light pink</th>\n",
       "      <td>0.097918</td>\n",
       "      <td>0.0</td>\n",
       "      <td>0.001308</td>\n",
       "      <td>0.0</td>\n",
       "      <td>0.060359</td>\n",
       "      <td>0.0</td>\n",
       "      <td>0.000729</td>\n",
       "      <td>0.0</td>\n",
       "      <td>0.033404</td>\n",
       "      <td>0.0</td>\n",
       "      <td>0.000137</td>\n",
       "      <td>0.0</td>\n",
       "      <td>0.000043</td>\n",
       "      <td>0.0</td>\n",
       "      <td>0.000412</td>\n",
       "      <td>0.0</td>\n",
       "    </tr>\n",
       "    <tr>\n",
       "      <th>purple</th>\n",
       "      <td>2.595222</td>\n",
       "      <td>2.0</td>\n",
       "      <td>0.003384</td>\n",
       "      <td>0.0</td>\n",
       "      <td>0.014542</td>\n",
       "      <td>0.0</td>\n",
       "      <td>0.000699</td>\n",
       "      <td>0.0</td>\n",
       "      <td>0.001288</td>\n",
       "      <td>0.0</td>\n",
       "      <td>0.000066</td>\n",
       "      <td>0.0</td>\n",
       "      <td>2.578366</td>\n",
       "      <td>2.0</td>\n",
       "      <td>0.002620</td>\n",
       "      <td>0.0</td>\n",
       "    </tr>\n",
       "  </tbody>\n",
       "</table>\n",
       "</div>"
      ],
      "text/plain": [
       "            num_persons_injured        num_persons_killed         \\\n",
       "                           mean median               mean median   \n",
       "cluster                                                            \n",
       "dark purple            1.033544    1.0           0.001800    0.0   \n",
       "light pink             0.097918    0.0           0.001308    0.0   \n",
       "purple                 2.595222    2.0           0.003384    0.0   \n",
       "\n",
       "            num_pedestrians_injured        num_pedestrians_killed         \\\n",
       "                               mean median                   mean median   \n",
       "cluster                                                                    \n",
       "dark purple                0.042514    0.0               0.000536    0.0   \n",
       "light pink                 0.060359    0.0               0.000729    0.0   \n",
       "purple                     0.014542    0.0               0.000699    0.0   \n",
       "\n",
       "            num_cyclist_injured        num_cyclist_killed         \\\n",
       "                           mean median               mean median   \n",
       "cluster                                                            \n",
       "dark purple            0.011063    0.0           0.000051    0.0   \n",
       "light pink             0.033404    0.0           0.000137    0.0   \n",
       "purple                 0.001288    0.0           0.000066    0.0   \n",
       "\n",
       "            num_motorist_injured        num_motorist_killed         \n",
       "                            mean median                mean median  \n",
       "cluster                                                             \n",
       "dark purple             0.975699    1.0            0.001224    0.0  \n",
       "light pink              0.000043    0.0            0.000412    0.0  \n",
       "purple                  2.578366    2.0            0.002620    0.0  "
      ]
     },
     "execution_count": 26,
     "metadata": {},
     "output_type": "execute_result"
    }
   ],
   "source": [
    "vc.groupby('cluster').agg({'num_persons_injured':['mean','median'],\n",
    "                           'num_persons_killed':['mean','median'],\n",
    "                           'num_pedestrians_injured':['mean','median'],\n",
    "                           'num_pedestrians_killed':['mean','median'],\n",
    "                           'num_cyclist_injured':['mean', 'median'],\n",
    "                           'num_cyclist_killed': ['mean', 'median'],\n",
    "                           'num_motorist_injured':['mean', 'median'],\n",
    "                           'num_motorist_killed': ['mean', 'median']})"
   ]
  },
  {
   "cell_type": "markdown",
   "id": "3dc998fa",
   "metadata": {},
   "source": [
    "#### Overall, these statistics reiterate the point that was made above, showing that in the purple group where the average number of persons injured in an accident is 3, there are 0 people killed in an accident. The same can be said for the other clusters, indicating that no matter how many people are injured in an accident, it does not increase the likeliness that there will be a fatality."
   ]
  },
  {
   "cell_type": "markdown",
   "id": "a697dc53",
   "metadata": {},
   "source": [
    "#### K-means on scaled dataset"
   ]
  },
  {
   "cell_type": "code",
   "execution_count": 27,
   "id": "e7afeb78",
   "metadata": {},
   "outputs": [],
   "source": [
    "# Create the k-means object.\n",
    "\n",
    "kmeans = KMeans(n_clusters = 5) "
   ]
  },
  {
   "cell_type": "code",
   "execution_count": 28,
   "id": "615d11ce",
   "metadata": {},
   "outputs": [
    {
     "data": {
      "text/plain": [
       "KMeans(n_clusters=5)"
      ]
     },
     "execution_count": 28,
     "metadata": {},
     "output_type": "execute_result"
    }
   ],
   "source": [
    "# Fit the k-means object to the data.\n",
    "\n",
    "kmeans.fit(vc_scaled)"
   ]
  },
  {
   "cell_type": "code",
   "execution_count": 29,
   "id": "9d75645e",
   "metadata": {},
   "outputs": [],
   "source": [
    "vc_scaled['clusters'] = kmeans.fit_predict(vc_scaled)"
   ]
  },
  {
   "cell_type": "code",
   "execution_count": 30,
   "id": "21dc197a",
   "metadata": {},
   "outputs": [
    {
     "data": {
      "text/html": [
       "<div>\n",
       "<style scoped>\n",
       "    .dataframe tbody tr th:only-of-type {\n",
       "        vertical-align: middle;\n",
       "    }\n",
       "\n",
       "    .dataframe tbody tr th {\n",
       "        vertical-align: top;\n",
       "    }\n",
       "\n",
       "    .dataframe thead th {\n",
       "        text-align: right;\n",
       "    }\n",
       "</style>\n",
       "<table border=\"1\" class=\"dataframe\">\n",
       "  <thead>\n",
       "    <tr style=\"text-align: right;\">\n",
       "      <th></th>\n",
       "      <th>num_persons_injured</th>\n",
       "      <th>num_persons_killed</th>\n",
       "      <th>num_pedestrians_injured</th>\n",
       "      <th>num_pedestrians_killed</th>\n",
       "      <th>num_cyclist_injured</th>\n",
       "      <th>num_cyclist_killed</th>\n",
       "      <th>num_motorist_injured</th>\n",
       "      <th>num_motorist_killed</th>\n",
       "      <th>clusters</th>\n",
       "    </tr>\n",
       "  </thead>\n",
       "  <tbody>\n",
       "    <tr>\n",
       "      <th>0</th>\n",
       "      <td>-0.459428</td>\n",
       "      <td>-0.035957</td>\n",
       "      <td>-0.230856</td>\n",
       "      <td>-0.025786</td>\n",
       "      <td>-0.171884</td>\n",
       "      <td>-0.011038</td>\n",
       "      <td>-0.350553</td>\n",
       "      <td>-0.022728</td>\n",
       "      <td>0</td>\n",
       "    </tr>\n",
       "    <tr>\n",
       "      <th>1</th>\n",
       "      <td>-0.459428</td>\n",
       "      <td>-0.035957</td>\n",
       "      <td>-0.230856</td>\n",
       "      <td>-0.025786</td>\n",
       "      <td>-0.171884</td>\n",
       "      <td>-0.011038</td>\n",
       "      <td>-0.350553</td>\n",
       "      <td>-0.022728</td>\n",
       "      <td>0</td>\n",
       "    </tr>\n",
       "    <tr>\n",
       "      <th>2</th>\n",
       "      <td>-0.459428</td>\n",
       "      <td>-0.035957</td>\n",
       "      <td>-0.230856</td>\n",
       "      <td>-0.025786</td>\n",
       "      <td>-0.171884</td>\n",
       "      <td>-0.011038</td>\n",
       "      <td>-0.350553</td>\n",
       "      <td>-0.022728</td>\n",
       "      <td>0</td>\n",
       "    </tr>\n",
       "    <tr>\n",
       "      <th>3</th>\n",
       "      <td>2.403969</td>\n",
       "      <td>-0.035957</td>\n",
       "      <td>-0.230856</td>\n",
       "      <td>-0.025786</td>\n",
       "      <td>-0.171884</td>\n",
       "      <td>-0.011038</td>\n",
       "      <td>2.680762</td>\n",
       "      <td>-0.022728</td>\n",
       "      <td>1</td>\n",
       "    </tr>\n",
       "    <tr>\n",
       "      <th>4</th>\n",
       "      <td>-0.459428</td>\n",
       "      <td>-0.035957</td>\n",
       "      <td>-0.230856</td>\n",
       "      <td>-0.025786</td>\n",
       "      <td>-0.171884</td>\n",
       "      <td>-0.011038</td>\n",
       "      <td>-0.350553</td>\n",
       "      <td>-0.022728</td>\n",
       "      <td>0</td>\n",
       "    </tr>\n",
       "  </tbody>\n",
       "</table>\n",
       "</div>"
      ],
      "text/plain": [
       "   num_persons_injured  num_persons_killed  num_pedestrians_injured  \\\n",
       "0            -0.459428           -0.035957                -0.230856   \n",
       "1            -0.459428           -0.035957                -0.230856   \n",
       "2            -0.459428           -0.035957                -0.230856   \n",
       "3             2.403969           -0.035957                -0.230856   \n",
       "4            -0.459428           -0.035957                -0.230856   \n",
       "\n",
       "   num_pedestrians_killed  num_cyclist_injured  num_cyclist_killed  \\\n",
       "0               -0.025786            -0.171884           -0.011038   \n",
       "1               -0.025786            -0.171884           -0.011038   \n",
       "2               -0.025786            -0.171884           -0.011038   \n",
       "3               -0.025786            -0.171884           -0.011038   \n",
       "4               -0.025786            -0.171884           -0.011038   \n",
       "\n",
       "   num_motorist_injured  num_motorist_killed  clusters  \n",
       "0             -0.350553            -0.022728         0  \n",
       "1             -0.350553            -0.022728         0  \n",
       "2             -0.350553            -0.022728         0  \n",
       "3              2.680762            -0.022728         1  \n",
       "4             -0.350553            -0.022728         0  "
      ]
     },
     "execution_count": 30,
     "metadata": {},
     "output_type": "execute_result"
    }
   ],
   "source": [
    "vc_scaled.head()"
   ]
  },
  {
   "cell_type": "code",
   "execution_count": 31,
   "id": "62c6ceb6",
   "metadata": {},
   "outputs": [
    {
     "data": {
      "text/plain": [
       "0    757646\n",
       "1    142078\n",
       "3     26962\n",
       "2       643\n",
       "4       523\n",
       "Name: clusters, dtype: int64"
      ]
     },
     "execution_count": 31,
     "metadata": {},
     "output_type": "execute_result"
    }
   ],
   "source": [
    "vc_scaled['clusters'].value_counts()"
   ]
  },
  {
   "cell_type": "code",
   "execution_count": 32,
   "id": "d2754807",
   "metadata": {},
   "outputs": [
    {
     "data": {
      "image/png": "[encoded data removed]",
      "text/plain": [
       "<Figure size 864x576 with 1 Axes>"
      ]
     },
     "metadata": {
      "needs_background": "light"
     },
     "output_type": "display_data"
    }
   ],
   "source": [
    "# Plot the clusters for the \"num_persons_injured\" and \"num_persons_killed\" variables.\n",
    "\n",
    "plt.figure(figsize=(12,8))\n",
    "ax2 = sns.scatterplot(x=vc_scaled['num_persons_injured'], y=vc_scaled['num_persons_killed'], hue=kmeans.labels_, s=100) \n",
    "# Here, you're subsetting `X` for the x and y arguments to avoid using their labels. \n",
    "# `hue` takes the value of the attribute `kmeans.labels_`, which is the result of running the k-means algorithm.\n",
    "# `s` represents the size of the points you want to see in the plot.\n",
    "\n",
    "ax2.grid(False) # This removes the grid from the background.\n",
    "plt.xlabel('Number of Persons Injured') # Label x-axis.\n",
    "plt.ylabel('Number of Persons Killed') # Label y-axis.\n",
    "plt.show()"
   ]
  },
  {
   "cell_type": "code",
   "execution_count": 39,
   "id": "de3ac498",
   "metadata": {},
   "outputs": [
    {
     "data": {
      "image/png": "[encoded data removed]",
      "text/plain": [
       "<Figure size 864x576 with 1 Axes>"
      ]
     },
     "metadata": {
      "needs_background": "light"
     },
     "output_type": "display_data"
    }
   ],
   "source": [
    "plt.figure(figsize=(12,8))\n",
    "ax = sns.scatterplot(x=vc_scaled['num_pedestrians_injured'], y=vc_scaled['num_pedestrians_killed'], hue=kmeans.labels_, s=100) \n",
    "# Here, you're subsetting `X` for the x and y arguments to avoid using their labels. \n",
    "# `hue` takes the value of the attribute `kmeans.labels_`, which is the result of running the k-means algorithm.\n",
    "# `s` represents the size of the points you want to see in the plot.\n",
    "\n",
    "ax.grid(False) # This removes the grid from the background.\n",
    "plt.xlabel('Number of Persons Injured') # Label x-axis.\n",
    "plt.ylabel('Number of Persons Killed') # Label y-axis.\n",
    "plt.show()"
   ]
  },
  {
   "cell_type": "code",
   "execution_count": 33,
   "id": "29ea91b5",
   "metadata": {},
   "outputs": [],
   "source": [
    "vc_scaled.loc[vc['clusters'] == 0, 'cluster'] = 'light pink'\n",
    "vc_scaled.loc[vc['clusters'] == 1, 'cluster'] = 'pink'\n",
    "vc_scaled.loc[vc['clusters'] == 2, 'cluster'] = 'light purple'\n",
    "vc_scaled.loc[vc['clusters'] == 3, 'cluster'] = 'purple'\n",
    "vc_scaled.loc[vc['clusters'] == 4, 'cluster'] = 'dark purple'"
   ]
  },
  {
   "cell_type": "code",
   "execution_count": 34,
   "id": "7271bace",
   "metadata": {},
   "outputs": [
    {
     "data": {
      "text/html": [
       "<div>\n",
       "<style scoped>\n",
       "    .dataframe tbody tr th:only-of-type {\n",
       "        vertical-align: middle;\n",
       "    }\n",
       "\n",
       "    .dataframe tbody tr th {\n",
       "        vertical-align: top;\n",
       "    }\n",
       "\n",
       "    .dataframe thead tr th {\n",
       "        text-align: left;\n",
       "    }\n",
       "\n",
       "    .dataframe thead tr:last-of-type th {\n",
       "        text-align: right;\n",
       "    }\n",
       "</style>\n",
       "<table border=\"1\" class=\"dataframe\">\n",
       "  <thead>\n",
       "    <tr>\n",
       "      <th></th>\n",
       "      <th colspan=\"2\" halign=\"left\">num_persons_injured</th>\n",
       "      <th colspan=\"2\" halign=\"left\">num_persons_killed</th>\n",
       "      <th colspan=\"2\" halign=\"left\">num_pedestrians_injured</th>\n",
       "      <th colspan=\"2\" halign=\"left\">num_pedestrians_killed</th>\n",
       "      <th colspan=\"2\" halign=\"left\">num_cyclist_injured</th>\n",
       "      <th colspan=\"2\" halign=\"left\">num_cyclist_killed</th>\n",
       "      <th colspan=\"2\" halign=\"left\">num_motorist_injured</th>\n",
       "      <th colspan=\"2\" halign=\"left\">num_motorist_killed</th>\n",
       "    </tr>\n",
       "    <tr>\n",
       "      <th></th>\n",
       "      <th>mean</th>\n",
       "      <th>median</th>\n",
       "      <th>mean</th>\n",
       "      <th>median</th>\n",
       "      <th>mean</th>\n",
       "      <th>median</th>\n",
       "      <th>mean</th>\n",
       "      <th>median</th>\n",
       "      <th>mean</th>\n",
       "      <th>median</th>\n",
       "      <th>mean</th>\n",
       "      <th>median</th>\n",
       "      <th>mean</th>\n",
       "      <th>median</th>\n",
       "      <th>mean</th>\n",
       "      <th>median</th>\n",
       "    </tr>\n",
       "    <tr>\n",
       "      <th>cluster</th>\n",
       "      <th></th>\n",
       "      <th></th>\n",
       "      <th></th>\n",
       "      <th></th>\n",
       "      <th></th>\n",
       "      <th></th>\n",
       "      <th></th>\n",
       "      <th></th>\n",
       "      <th></th>\n",
       "      <th></th>\n",
       "      <th></th>\n",
       "      <th></th>\n",
       "      <th></th>\n",
       "      <th></th>\n",
       "      <th></th>\n",
       "      <th></th>\n",
       "    </tr>\n",
       "  </thead>\n",
       "  <tbody>\n",
       "    <tr>\n",
       "      <th>light pink</th>\n",
       "      <td>-0.319239</td>\n",
       "      <td>-0.459428</td>\n",
       "      <td>-0.003811</td>\n",
       "      <td>-0.035957</td>\n",
       "      <td>0.017103</td>\n",
       "      <td>-0.230856</td>\n",
       "      <td>0.000805</td>\n",
       "      <td>-0.025786</td>\n",
       "      <td>0.023158</td>\n",
       "      <td>-0.171884</td>\n",
       "      <td>0.001129</td>\n",
       "      <td>-0.011038</td>\n",
       "      <td>-0.350488</td>\n",
       "      <td>-0.350553</td>\n",
       "      <td>-0.007307</td>\n",
       "      <td>-0.022728</td>\n",
       "    </tr>\n",
       "    <tr>\n",
       "      <th>light purple</th>\n",
       "      <td>1.020295</td>\n",
       "      <td>0.972271</td>\n",
       "      <td>0.008299</td>\n",
       "      <td>-0.035957</td>\n",
       "      <td>-0.056206</td>\n",
       "      <td>-0.230856</td>\n",
       "      <td>-0.006238</td>\n",
       "      <td>-0.025786</td>\n",
       "      <td>-0.107287</td>\n",
       "      <td>-0.171884</td>\n",
       "      <td>-0.006535</td>\n",
       "      <td>-0.011038</td>\n",
       "      <td>1.128273</td>\n",
       "      <td>1.165104</td>\n",
       "      <td>0.023024</td>\n",
       "      <td>-0.022728</td>\n",
       "    </tr>\n",
       "    <tr>\n",
       "      <th>pink</th>\n",
       "      <td>3.256149</td>\n",
       "      <td>2.403969</td>\n",
       "      <td>0.047252</td>\n",
       "      <td>-0.035957</td>\n",
       "      <td>-0.171116</td>\n",
       "      <td>-0.230856</td>\n",
       "      <td>-0.000302</td>\n",
       "      <td>-0.025786</td>\n",
       "      <td>-0.164362</td>\n",
       "      <td>-0.171884</td>\n",
       "      <td>-0.005204</td>\n",
       "      <td>-0.011038</td>\n",
       "      <td>3.557367</td>\n",
       "      <td>2.680762</td>\n",
       "      <td>0.075244</td>\n",
       "      <td>-0.022728</td>\n",
       "    </tr>\n",
       "  </tbody>\n",
       "</table>\n",
       "</div>"
      ],
      "text/plain": [
       "             num_persons_injured           num_persons_killed            \\\n",
       "                            mean    median               mean    median   \n",
       "cluster                                                                   \n",
       "light pink             -0.319239 -0.459428          -0.003811 -0.035957   \n",
       "light purple            1.020295  0.972271           0.008299 -0.035957   \n",
       "pink                    3.256149  2.403969           0.047252 -0.035957   \n",
       "\n",
       "             num_pedestrians_injured           num_pedestrians_killed  \\\n",
       "                                mean    median                   mean   \n",
       "cluster                                                                 \n",
       "light pink                  0.017103 -0.230856               0.000805   \n",
       "light purple               -0.056206 -0.230856              -0.006238   \n",
       "pink                       -0.171116 -0.230856              -0.000302   \n",
       "\n",
       "                       num_cyclist_injured           num_cyclist_killed  \\\n",
       "                median                mean    median               mean   \n",
       "cluster                                                                   \n",
       "light pink   -0.025786            0.023158 -0.171884           0.001129   \n",
       "light purple -0.025786           -0.107287 -0.171884          -0.006535   \n",
       "pink         -0.025786           -0.164362 -0.171884          -0.005204   \n",
       "\n",
       "                       num_motorist_injured           num_motorist_killed  \\\n",
       "                median                 mean    median                mean   \n",
       "cluster                                                                     \n",
       "light pink   -0.011038            -0.350488 -0.350553           -0.007307   \n",
       "light purple -0.011038             1.128273  1.165104            0.023024   \n",
       "pink         -0.011038             3.557367  2.680762            0.075244   \n",
       "\n",
       "                        \n",
       "                median  \n",
       "cluster                 \n",
       "light pink   -0.022728  \n",
       "light purple -0.022728  \n",
       "pink         -0.022728  "
      ]
     },
     "execution_count": 34,
     "metadata": {},
     "output_type": "execute_result"
    }
   ],
   "source": [
    "vc_scaled.groupby('cluster').agg({'num_persons_injured':['mean','median'],\n",
    "                           'num_persons_killed':['mean','median'],\n",
    "                           'num_pedestrians_injured':['mean','median'],\n",
    "                           'num_pedestrians_killed':['mean','median'],\n",
    "                           'num_cyclist_injured':['mean', 'median'],\n",
    "                           'num_cyclist_killed': ['mean', 'median'],\n",
    "                           'num_motorist_injured':['mean', 'median'],\n",
    "                           'num_motorist_killed': ['mean', 'median']})"
   ]
  },
  {
   "cell_type": "markdown",
   "id": "f2f6ab71",
   "metadata": {},
   "source": [
    "# 04. Export Dataset"
   ]
  },
  {
   "cell_type": "code",
   "execution_count": null,
   "id": "447f02c4",
   "metadata": {},
   "outputs": [],
   "source": [
    "# export dataset with cluster columns\n",
    "vc.to_csv(os.path.join(path, '02 Data', 'Prepared Data', 'vehicle_collision_clusters.csv'))"
   ]
  },
  {
   "cell_type": "code",
   "execution_count": null,
   "id": "477fadc1",
   "metadata": {},
   "outputs": [],
   "source": []
  }
 ],
 "metadata": {
  "kernelspec": {
   "display_name": "Python 3 (ipykernel)",
   "language": "python",
   "name": "python3"
  },
  "language_info": {
   "codemirror_mode": {
    "name": "ipython",
    "version": 3
   },
   "file_extension": ".py",
   "mimetype": "text/x-python",
   "name": "python",
   "nbconvert_exporter": "python",
   "pygments_lexer": "ipython3",
   "version": "3.9.12"
  }
 },
 "nbformat": 4,
 "nbformat_minor": 5
}
