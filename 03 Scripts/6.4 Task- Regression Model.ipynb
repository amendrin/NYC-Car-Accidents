{
 "cells": [
  {
   "cell_type": "markdown",
   "id": "dc6472ba",
   "metadata": {},
   "source": [
    "# Table of Contents\n",
    "### 01. Import Libraries and Dataframe\n",
    "### 02. Data Cleaning\n",
    "### 03. Data Prep for Regression Analysis\n",
    "### 04. Regression Analysis"
   ]
  },
  {
   "cell_type": "markdown",
   "id": "da931495",
   "metadata": {},
   "source": [
    "# 01. Import Libraries and Dataframe"
   ]
  },
  {
   "cell_type": "code",
   "execution_count": 1,
   "id": "f490def1",
   "metadata": {},
   "outputs": [],
   "source": [
    "import pandas as pd\n",
    "import numpy as np\n",
    "import os\n",
    "import seaborn as sns\n",
    "import matplotlib\n",
    "import matplotlib.pyplot as plt\n",
    "import sklearn\n",
    "from sklearn.model_selection import train_test_split \n",
    "from sklearn.linear_model import LinearRegression\n",
    "from sklearn.metrics import mean_squared_error, r2_score"
   ]
  },
  {
   "cell_type": "code",
   "execution_count": 2,
   "id": "17552844",
   "metadata": {},
   "outputs": [],
   "source": [
    "# This option ensures that the graphs you create are displayed within the notebook without the need to \"call\" them specifically.\n",
    "\n",
    "%matplotlib inline"
   ]
  },
  {
   "cell_type": "code",
   "execution_count": 3,
   "id": "4986ff18",
   "metadata": {},
   "outputs": [],
   "source": [
    "# path= project pathname\n",
    "path=r'/Users/alexmendrin/Documents/Career Foundry/Data Immersion/Achievement 6/Project Folder'"
   ]
  },
  {
   "cell_type": "code",
   "execution_count": 4,
   "id": "63c2d5de",
   "metadata": {},
   "outputs": [],
   "source": [
    "# import dataframe\n",
    "vc= pd.read_pickle(os.path.join(path, '02 Data', 'Prepared Data', 'vehicle_collisions_cleaned.pkl'))"
   ]
  },
  {
   "cell_type": "markdown",
   "id": "2fb02a99",
   "metadata": {},
   "source": [
    "# 02. Data Cleaning"
   ]
  },
  {
   "cell_type": "code",
   "execution_count": 5,
   "id": "1cd997bd",
   "metadata": {},
   "outputs": [
    {
     "data": {
      "text/plain": [
       "Index(['date', 'time', 'borough', 'latitude', 'longitude', 'location',\n",
       "       'num_persons_injured', 'num_persons_killed', 'num_pedestrians_injured',\n",
       "       'num_pedestrians_killed', 'num_cyclist_injured', 'num_cyclist_killed',\n",
       "       'num_motorist_injured', 'num_motorist_killed', 'collision_id',\n",
       "       'contrib_factor_vehicle_1', 'contrib_factor_vehicle_2',\n",
       "       'vehicle_type_1', 'vehicle_type_2'],\n",
       "      dtype='object')"
      ]
     },
     "execution_count": 5,
     "metadata": {},
     "output_type": "execute_result"
    }
   ],
   "source": [
    "vc.columns"
   ]
  },
  {
   "cell_type": "code",
   "execution_count": 6,
   "id": "25307200",
   "metadata": {},
   "outputs": [
    {
     "data": {
      "text/html": [
       "<div>\n",
       "<style scoped>\n",
       "    .dataframe tbody tr th:only-of-type {\n",
       "        vertical-align: middle;\n",
       "    }\n",
       "\n",
       "    .dataframe tbody tr th {\n",
       "        vertical-align: top;\n",
       "    }\n",
       "\n",
       "    .dataframe thead th {\n",
       "        text-align: right;\n",
       "    }\n",
       "</style>\n",
       "<table border=\"1\" class=\"dataframe\">\n",
       "  <thead>\n",
       "    <tr style=\"text-align: right;\">\n",
       "      <th></th>\n",
       "      <th>date</th>\n",
       "      <th>time</th>\n",
       "      <th>borough</th>\n",
       "      <th>latitude</th>\n",
       "      <th>longitude</th>\n",
       "      <th>location</th>\n",
       "      <th>num_persons_injured</th>\n",
       "      <th>num_persons_killed</th>\n",
       "      <th>num_pedestrians_injured</th>\n",
       "      <th>num_pedestrians_killed</th>\n",
       "      <th>num_cyclist_injured</th>\n",
       "      <th>num_cyclist_killed</th>\n",
       "      <th>num_motorist_injured</th>\n",
       "      <th>num_motorist_killed</th>\n",
       "      <th>collision_id</th>\n",
       "      <th>contrib_factor_vehicle_1</th>\n",
       "      <th>contrib_factor_vehicle_2</th>\n",
       "      <th>vehicle_type_1</th>\n",
       "      <th>vehicle_type_2</th>\n",
       "    </tr>\n",
       "  </thead>\n",
       "  <tbody>\n",
       "    <tr>\n",
       "      <th>0</th>\n",
       "      <td>9/11/21</td>\n",
       "      <td>9:35</td>\n",
       "      <td>BROOKLYN</td>\n",
       "      <td>40.67</td>\n",
       "      <td>-73.87</td>\n",
       "      <td>(40.667202, -73.8665)</td>\n",
       "      <td>0</td>\n",
       "      <td>0</td>\n",
       "      <td>0</td>\n",
       "      <td>0</td>\n",
       "      <td>0</td>\n",
       "      <td>0</td>\n",
       "      <td>0</td>\n",
       "      <td>0</td>\n",
       "      <td>4456314</td>\n",
       "      <td>7.0</td>\n",
       "      <td>7.0</td>\n",
       "      <td>2.0</td>\n",
       "      <td>9.0</td>\n",
       "    </tr>\n",
       "    <tr>\n",
       "      <th>1</th>\n",
       "      <td>12/14/21</td>\n",
       "      <td>8:13</td>\n",
       "      <td>BROOKLYN</td>\n",
       "      <td>40.68</td>\n",
       "      <td>-73.92</td>\n",
       "      <td>(40.683304, -73.917274)</td>\n",
       "      <td>0</td>\n",
       "      <td>0</td>\n",
       "      <td>0</td>\n",
       "      <td>0</td>\n",
       "      <td>0</td>\n",
       "      <td>0</td>\n",
       "      <td>0</td>\n",
       "      <td>0</td>\n",
       "      <td>4486609</td>\n",
       "      <td>7.0</td>\n",
       "      <td>7.0</td>\n",
       "      <td>9.0</td>\n",
       "      <td>9.0</td>\n",
       "    </tr>\n",
       "    <tr>\n",
       "      <th>2</th>\n",
       "      <td>12/14/21</td>\n",
       "      <td>17:05</td>\n",
       "      <td>NaN</td>\n",
       "      <td>40.71</td>\n",
       "      <td>-73.96</td>\n",
       "      <td>(40.709183, -73.956825)</td>\n",
       "      <td>0</td>\n",
       "      <td>0</td>\n",
       "      <td>0</td>\n",
       "      <td>0</td>\n",
       "      <td>0</td>\n",
       "      <td>0</td>\n",
       "      <td>0</td>\n",
       "      <td>0</td>\n",
       "      <td>4486555</td>\n",
       "      <td>2.0</td>\n",
       "      <td>7.0</td>\n",
       "      <td>3.0</td>\n",
       "      <td>6.0</td>\n",
       "    </tr>\n",
       "    <tr>\n",
       "      <th>3</th>\n",
       "      <td>12/14/21</td>\n",
       "      <td>8:17</td>\n",
       "      <td>BRONX</td>\n",
       "      <td>40.87</td>\n",
       "      <td>-73.83</td>\n",
       "      <td>(40.86816, -73.83148)</td>\n",
       "      <td>2</td>\n",
       "      <td>0</td>\n",
       "      <td>0</td>\n",
       "      <td>0</td>\n",
       "      <td>0</td>\n",
       "      <td>0</td>\n",
       "      <td>2</td>\n",
       "      <td>0</td>\n",
       "      <td>4486660</td>\n",
       "      <td>7.0</td>\n",
       "      <td>7.0</td>\n",
       "      <td>3.0</td>\n",
       "      <td>3.0</td>\n",
       "    </tr>\n",
       "    <tr>\n",
       "      <th>4</th>\n",
       "      <td>12/14/21</td>\n",
       "      <td>21:10</td>\n",
       "      <td>BROOKLYN</td>\n",
       "      <td>40.67</td>\n",
       "      <td>-73.90</td>\n",
       "      <td>(40.67172, -73.8971)</td>\n",
       "      <td>0</td>\n",
       "      <td>0</td>\n",
       "      <td>0</td>\n",
       "      <td>0</td>\n",
       "      <td>0</td>\n",
       "      <td>0</td>\n",
       "      <td>0</td>\n",
       "      <td>0</td>\n",
       "      <td>4487074</td>\n",
       "      <td>2.0</td>\n",
       "      <td>7.0</td>\n",
       "      <td>3.0</td>\n",
       "      <td>9.0</td>\n",
       "    </tr>\n",
       "    <tr>\n",
       "      <th>5</th>\n",
       "      <td>12/14/21</td>\n",
       "      <td>14:58</td>\n",
       "      <td>MANHATTAN</td>\n",
       "      <td>40.75</td>\n",
       "      <td>-73.97</td>\n",
       "      <td>(40.75144, -73.97397)</td>\n",
       "      <td>0</td>\n",
       "      <td>0</td>\n",
       "      <td>0</td>\n",
       "      <td>0</td>\n",
       "      <td>0</td>\n",
       "      <td>0</td>\n",
       "      <td>0</td>\n",
       "      <td>0</td>\n",
       "      <td>4486519</td>\n",
       "      <td>2.0</td>\n",
       "      <td>7.0</td>\n",
       "      <td>3.0</td>\n",
       "      <td>3.0</td>\n",
       "    </tr>\n",
       "    <tr>\n",
       "      <th>6</th>\n",
       "      <td>12/13/21</td>\n",
       "      <td>0:34</td>\n",
       "      <td>NaN</td>\n",
       "      <td>40.70</td>\n",
       "      <td>-73.89</td>\n",
       "      <td>(40.701275, -73.88887)</td>\n",
       "      <td>0</td>\n",
       "      <td>0</td>\n",
       "      <td>0</td>\n",
       "      <td>0</td>\n",
       "      <td>0</td>\n",
       "      <td>0</td>\n",
       "      <td>0</td>\n",
       "      <td>0</td>\n",
       "      <td>4486934</td>\n",
       "      <td>2.0</td>\n",
       "      <td>7.0</td>\n",
       "      <td>3.0</td>\n",
       "      <td>9.0</td>\n",
       "    </tr>\n",
       "    <tr>\n",
       "      <th>7</th>\n",
       "      <td>12/14/21</td>\n",
       "      <td>16:50</td>\n",
       "      <td>QUEENS</td>\n",
       "      <td>40.68</td>\n",
       "      <td>-73.76</td>\n",
       "      <td>(40.675884, -73.75577)</td>\n",
       "      <td>0</td>\n",
       "      <td>0</td>\n",
       "      <td>0</td>\n",
       "      <td>0</td>\n",
       "      <td>0</td>\n",
       "      <td>0</td>\n",
       "      <td>0</td>\n",
       "      <td>0</td>\n",
       "      <td>4487127</td>\n",
       "      <td>2.0</td>\n",
       "      <td>7.0</td>\n",
       "      <td>3.0</td>\n",
       "      <td>3.0</td>\n",
       "    </tr>\n",
       "    <tr>\n",
       "      <th>8</th>\n",
       "      <td>12/14/21</td>\n",
       "      <td>0:59</td>\n",
       "      <td>NaN</td>\n",
       "      <td>40.60</td>\n",
       "      <td>-74.00</td>\n",
       "      <td>(40.59662, -74.00231)</td>\n",
       "      <td>0</td>\n",
       "      <td>0</td>\n",
       "      <td>0</td>\n",
       "      <td>0</td>\n",
       "      <td>0</td>\n",
       "      <td>0</td>\n",
       "      <td>0</td>\n",
       "      <td>0</td>\n",
       "      <td>4486564</td>\n",
       "      <td>2.0</td>\n",
       "      <td>7.0</td>\n",
       "      <td>3.0</td>\n",
       "      <td>9.0</td>\n",
       "    </tr>\n",
       "    <tr>\n",
       "      <th>9</th>\n",
       "      <td>12/14/21</td>\n",
       "      <td>23:10</td>\n",
       "      <td>QUEENS</td>\n",
       "      <td>40.67</td>\n",
       "      <td>-73.79</td>\n",
       "      <td>(40.66684, -73.78941)</td>\n",
       "      <td>2</td>\n",
       "      <td>0</td>\n",
       "      <td>0</td>\n",
       "      <td>0</td>\n",
       "      <td>0</td>\n",
       "      <td>0</td>\n",
       "      <td>2</td>\n",
       "      <td>0</td>\n",
       "      <td>4486635</td>\n",
       "      <td>4.0</td>\n",
       "      <td>7.0</td>\n",
       "      <td>3.0</td>\n",
       "      <td>3.0</td>\n",
       "    </tr>\n",
       "    <tr>\n",
       "      <th>10</th>\n",
       "      <td>12/14/21</td>\n",
       "      <td>17:58</td>\n",
       "      <td>BROOKLYN</td>\n",
       "      <td>40.68</td>\n",
       "      <td>-73.97</td>\n",
       "      <td>(40.68158, -73.97463)</td>\n",
       "      <td>0</td>\n",
       "      <td>0</td>\n",
       "      <td>0</td>\n",
       "      <td>0</td>\n",
       "      <td>0</td>\n",
       "      <td>0</td>\n",
       "      <td>0</td>\n",
       "      <td>0</td>\n",
       "      <td>4486604</td>\n",
       "      <td>2.0</td>\n",
       "      <td>7.0</td>\n",
       "      <td>6.0</td>\n",
       "      <td>3.0</td>\n",
       "    </tr>\n",
       "    <tr>\n",
       "      <th>11</th>\n",
       "      <td>12/14/21</td>\n",
       "      <td>20:03</td>\n",
       "      <td>BROOKLYN</td>\n",
       "      <td>40.65</td>\n",
       "      <td>-73.96</td>\n",
       "      <td>(40.65068, -73.95881)</td>\n",
       "      <td>4</td>\n",
       "      <td>0</td>\n",
       "      <td>0</td>\n",
       "      <td>0</td>\n",
       "      <td>0</td>\n",
       "      <td>0</td>\n",
       "      <td>4</td>\n",
       "      <td>0</td>\n",
       "      <td>4486991</td>\n",
       "      <td>6.0</td>\n",
       "      <td>7.0</td>\n",
       "      <td>3.0</td>\n",
       "      <td>9.0</td>\n",
       "    </tr>\n",
       "    <tr>\n",
       "      <th>12</th>\n",
       "      <td>12/11/21</td>\n",
       "      <td>19:43</td>\n",
       "      <td>BRONX</td>\n",
       "      <td>40.87</td>\n",
       "      <td>-73.90</td>\n",
       "      <td>(40.87262, -73.904686)</td>\n",
       "      <td>1</td>\n",
       "      <td>0</td>\n",
       "      <td>0</td>\n",
       "      <td>0</td>\n",
       "      <td>0</td>\n",
       "      <td>0</td>\n",
       "      <td>1</td>\n",
       "      <td>0</td>\n",
       "      <td>4487040</td>\n",
       "      <td>7.0</td>\n",
       "      <td>7.0</td>\n",
       "      <td>3.0</td>\n",
       "      <td>3.0</td>\n",
       "    </tr>\n",
       "    <tr>\n",
       "      <th>13</th>\n",
       "      <td>12/14/21</td>\n",
       "      <td>14:30</td>\n",
       "      <td>NaN</td>\n",
       "      <td>40.78</td>\n",
       "      <td>-73.82</td>\n",
       "      <td>(40.783268, -73.82485)</td>\n",
       "      <td>0</td>\n",
       "      <td>0</td>\n",
       "      <td>0</td>\n",
       "      <td>0</td>\n",
       "      <td>0</td>\n",
       "      <td>0</td>\n",
       "      <td>0</td>\n",
       "      <td>0</td>\n",
       "      <td>4486537</td>\n",
       "      <td>2.0</td>\n",
       "      <td>7.0</td>\n",
       "      <td>3.0</td>\n",
       "      <td>3.0</td>\n",
       "    </tr>\n",
       "    <tr>\n",
       "      <th>14</th>\n",
       "      <td>12/11/21</td>\n",
       "      <td>4:45</td>\n",
       "      <td>MANHATTAN</td>\n",
       "      <td>40.75</td>\n",
       "      <td>-73.99</td>\n",
       "      <td>(40.748917, -73.993546)</td>\n",
       "      <td>0</td>\n",
       "      <td>0</td>\n",
       "      <td>0</td>\n",
       "      <td>0</td>\n",
       "      <td>0</td>\n",
       "      <td>0</td>\n",
       "      <td>0</td>\n",
       "      <td>0</td>\n",
       "      <td>4486905</td>\n",
       "      <td>2.0</td>\n",
       "      <td>7.0</td>\n",
       "      <td>3.0</td>\n",
       "      <td>9.0</td>\n",
       "    </tr>\n",
       "    <tr>\n",
       "      <th>15</th>\n",
       "      <td>12/14/21</td>\n",
       "      <td>5:46</td>\n",
       "      <td>NaN</td>\n",
       "      <td>40.74</td>\n",
       "      <td>-73.77</td>\n",
       "      <td>(40.744644, -73.77041)</td>\n",
       "      <td>1</td>\n",
       "      <td>0</td>\n",
       "      <td>0</td>\n",
       "      <td>0</td>\n",
       "      <td>0</td>\n",
       "      <td>0</td>\n",
       "      <td>1</td>\n",
       "      <td>0</td>\n",
       "      <td>4487122</td>\n",
       "      <td>4.0</td>\n",
       "      <td>4.0</td>\n",
       "      <td>3.0</td>\n",
       "      <td>3.0</td>\n",
       "    </tr>\n",
       "    <tr>\n",
       "      <th>16</th>\n",
       "      <td>12/13/21</td>\n",
       "      <td>6:30</td>\n",
       "      <td>QUEENS</td>\n",
       "      <td>40.75</td>\n",
       "      <td>-73.89</td>\n",
       "      <td>(40.75373, -73.88505)</td>\n",
       "      <td>0</td>\n",
       "      <td>0</td>\n",
       "      <td>0</td>\n",
       "      <td>0</td>\n",
       "      <td>0</td>\n",
       "      <td>0</td>\n",
       "      <td>0</td>\n",
       "      <td>0</td>\n",
       "      <td>4486967</td>\n",
       "      <td>7.0</td>\n",
       "      <td>7.0</td>\n",
       "      <td>3.0</td>\n",
       "      <td>9.0</td>\n",
       "    </tr>\n",
       "    <tr>\n",
       "      <th>17</th>\n",
       "      <td>12/14/21</td>\n",
       "      <td>3:43</td>\n",
       "      <td>NaN</td>\n",
       "      <td>40.80</td>\n",
       "      <td>-73.94</td>\n",
       "      <td>(40.804375, -73.93742)</td>\n",
       "      <td>1</td>\n",
       "      <td>0</td>\n",
       "      <td>1</td>\n",
       "      <td>0</td>\n",
       "      <td>0</td>\n",
       "      <td>0</td>\n",
       "      <td>0</td>\n",
       "      <td>0</td>\n",
       "      <td>4486304</td>\n",
       "      <td>7.0</td>\n",
       "      <td>7.0</td>\n",
       "      <td>3.0</td>\n",
       "      <td>9.0</td>\n",
       "    </tr>\n",
       "    <tr>\n",
       "      <th>18</th>\n",
       "      <td>12/13/21</td>\n",
       "      <td>17:40</td>\n",
       "      <td>STATEN ISLAND</td>\n",
       "      <td>40.63</td>\n",
       "      <td>-74.09</td>\n",
       "      <td>(40.63165, -74.08762)</td>\n",
       "      <td>1</td>\n",
       "      <td>0</td>\n",
       "      <td>0</td>\n",
       "      <td>0</td>\n",
       "      <td>0</td>\n",
       "      <td>0</td>\n",
       "      <td>1</td>\n",
       "      <td>0</td>\n",
       "      <td>4487001</td>\n",
       "      <td>7.0</td>\n",
       "      <td>7.0</td>\n",
       "      <td>3.0</td>\n",
       "      <td>3.0</td>\n",
       "    </tr>\n",
       "    <tr>\n",
       "      <th>19</th>\n",
       "      <td>12/14/21</td>\n",
       "      <td>17:31</td>\n",
       "      <td>BROOKLYN</td>\n",
       "      <td>40.62</td>\n",
       "      <td>-73.96</td>\n",
       "      <td>(40.623104, -73.95809)</td>\n",
       "      <td>1</td>\n",
       "      <td>0</td>\n",
       "      <td>1</td>\n",
       "      <td>0</td>\n",
       "      <td>0</td>\n",
       "      <td>0</td>\n",
       "      <td>0</td>\n",
       "      <td>0</td>\n",
       "      <td>4486516</td>\n",
       "      <td>7.0</td>\n",
       "      <td>7.0</td>\n",
       "      <td>3.0</td>\n",
       "      <td>9.0</td>\n",
       "    </tr>\n",
       "  </tbody>\n",
       "</table>\n",
       "</div>"
      ],
      "text/plain": [
       "        date   time        borough  latitude  longitude  \\\n",
       "0    9/11/21   9:35       BROOKLYN     40.67     -73.87   \n",
       "1   12/14/21   8:13       BROOKLYN     40.68     -73.92   \n",
       "2   12/14/21  17:05            NaN     40.71     -73.96   \n",
       "3   12/14/21   8:17          BRONX     40.87     -73.83   \n",
       "4   12/14/21  21:10       BROOKLYN     40.67     -73.90   \n",
       "5   12/14/21  14:58      MANHATTAN     40.75     -73.97   \n",
       "6   12/13/21   0:34            NaN     40.70     -73.89   \n",
       "7   12/14/21  16:50         QUEENS     40.68     -73.76   \n",
       "8   12/14/21   0:59            NaN     40.60     -74.00   \n",
       "9   12/14/21  23:10         QUEENS     40.67     -73.79   \n",
       "10  12/14/21  17:58       BROOKLYN     40.68     -73.97   \n",
       "11  12/14/21  20:03       BROOKLYN     40.65     -73.96   \n",
       "12  12/11/21  19:43          BRONX     40.87     -73.90   \n",
       "13  12/14/21  14:30            NaN     40.78     -73.82   \n",
       "14  12/11/21   4:45      MANHATTAN     40.75     -73.99   \n",
       "15  12/14/21   5:46            NaN     40.74     -73.77   \n",
       "16  12/13/21   6:30         QUEENS     40.75     -73.89   \n",
       "17  12/14/21   3:43            NaN     40.80     -73.94   \n",
       "18  12/13/21  17:40  STATEN ISLAND     40.63     -74.09   \n",
       "19  12/14/21  17:31       BROOKLYN     40.62     -73.96   \n",
       "\n",
       "                   location  num_persons_injured  num_persons_killed  \\\n",
       "0     (40.667202, -73.8665)                    0                   0   \n",
       "1   (40.683304, -73.917274)                    0                   0   \n",
       "2   (40.709183, -73.956825)                    0                   0   \n",
       "3     (40.86816, -73.83148)                    2                   0   \n",
       "4      (40.67172, -73.8971)                    0                   0   \n",
       "5     (40.75144, -73.97397)                    0                   0   \n",
       "6    (40.701275, -73.88887)                    0                   0   \n",
       "7    (40.675884, -73.75577)                    0                   0   \n",
       "8     (40.59662, -74.00231)                    0                   0   \n",
       "9     (40.66684, -73.78941)                    2                   0   \n",
       "10    (40.68158, -73.97463)                    0                   0   \n",
       "11    (40.65068, -73.95881)                    4                   0   \n",
       "12   (40.87262, -73.904686)                    1                   0   \n",
       "13   (40.783268, -73.82485)                    0                   0   \n",
       "14  (40.748917, -73.993546)                    0                   0   \n",
       "15   (40.744644, -73.77041)                    1                   0   \n",
       "16    (40.75373, -73.88505)                    0                   0   \n",
       "17   (40.804375, -73.93742)                    1                   0   \n",
       "18    (40.63165, -74.08762)                    1                   0   \n",
       "19   (40.623104, -73.95809)                    1                   0   \n",
       "\n",
       "    num_pedestrians_injured  num_pedestrians_killed  num_cyclist_injured  \\\n",
       "0                         0                       0                    0   \n",
       "1                         0                       0                    0   \n",
       "2                         0                       0                    0   \n",
       "3                         0                       0                    0   \n",
       "4                         0                       0                    0   \n",
       "5                         0                       0                    0   \n",
       "6                         0                       0                    0   \n",
       "7                         0                       0                    0   \n",
       "8                         0                       0                    0   \n",
       "9                         0                       0                    0   \n",
       "10                        0                       0                    0   \n",
       "11                        0                       0                    0   \n",
       "12                        0                       0                    0   \n",
       "13                        0                       0                    0   \n",
       "14                        0                       0                    0   \n",
       "15                        0                       0                    0   \n",
       "16                        0                       0                    0   \n",
       "17                        1                       0                    0   \n",
       "18                        0                       0                    0   \n",
       "19                        1                       0                    0   \n",
       "\n",
       "    num_cyclist_killed  num_motorist_injured  num_motorist_killed  \\\n",
       "0                    0                     0                    0   \n",
       "1                    0                     0                    0   \n",
       "2                    0                     0                    0   \n",
       "3                    0                     2                    0   \n",
       "4                    0                     0                    0   \n",
       "5                    0                     0                    0   \n",
       "6                    0                     0                    0   \n",
       "7                    0                     0                    0   \n",
       "8                    0                     0                    0   \n",
       "9                    0                     2                    0   \n",
       "10                   0                     0                    0   \n",
       "11                   0                     4                    0   \n",
       "12                   0                     1                    0   \n",
       "13                   0                     0                    0   \n",
       "14                   0                     0                    0   \n",
       "15                   0                     1                    0   \n",
       "16                   0                     0                    0   \n",
       "17                   0                     0                    0   \n",
       "18                   0                     1                    0   \n",
       "19                   0                     0                    0   \n",
       "\n",
       "    collision_id  contrib_factor_vehicle_1  contrib_factor_vehicle_2  \\\n",
       "0        4456314                       7.0                       7.0   \n",
       "1        4486609                       7.0                       7.0   \n",
       "2        4486555                       2.0                       7.0   \n",
       "3        4486660                       7.0                       7.0   \n",
       "4        4487074                       2.0                       7.0   \n",
       "5        4486519                       2.0                       7.0   \n",
       "6        4486934                       2.0                       7.0   \n",
       "7        4487127                       2.0                       7.0   \n",
       "8        4486564                       2.0                       7.0   \n",
       "9        4486635                       4.0                       7.0   \n",
       "10       4486604                       2.0                       7.0   \n",
       "11       4486991                       6.0                       7.0   \n",
       "12       4487040                       7.0                       7.0   \n",
       "13       4486537                       2.0                       7.0   \n",
       "14       4486905                       2.0                       7.0   \n",
       "15       4487122                       4.0                       4.0   \n",
       "16       4486967                       7.0                       7.0   \n",
       "17       4486304                       7.0                       7.0   \n",
       "18       4487001                       7.0                       7.0   \n",
       "19       4486516                       7.0                       7.0   \n",
       "\n",
       "    vehicle_type_1  vehicle_type_2  \n",
       "0              2.0             9.0  \n",
       "1              9.0             9.0  \n",
       "2              3.0             6.0  \n",
       "3              3.0             3.0  \n",
       "4              3.0             9.0  \n",
       "5              3.0             3.0  \n",
       "6              3.0             9.0  \n",
       "7              3.0             3.0  \n",
       "8              3.0             9.0  \n",
       "9              3.0             3.0  \n",
       "10             6.0             3.0  \n",
       "11             3.0             9.0  \n",
       "12             3.0             3.0  \n",
       "13             3.0             3.0  \n",
       "14             3.0             9.0  \n",
       "15             3.0             3.0  \n",
       "16             3.0             9.0  \n",
       "17             3.0             9.0  \n",
       "18             3.0             3.0  \n",
       "19             3.0             9.0  "
      ]
     },
     "execution_count": 6,
     "metadata": {},
     "output_type": "execute_result"
    }
   ],
   "source": [
    "vc.head(20)"
   ]
  },
  {
   "cell_type": "code",
   "execution_count": 7,
   "id": "c4520630",
   "metadata": {},
   "outputs": [
    {
     "data": {
      "text/plain": [
       "(927852, 19)"
      ]
     },
     "execution_count": 7,
     "metadata": {},
     "output_type": "execute_result"
    }
   ],
   "source": [
    "vc.shape"
   ]
  },
  {
   "cell_type": "markdown",
   "id": "1141fbb6",
   "metadata": {},
   "source": [
    "#### Missing Values"
   ]
  },
  {
   "cell_type": "code",
   "execution_count": 9,
   "id": "ef926478",
   "metadata": {},
   "outputs": [
    {
     "data": {
      "text/plain": [
       "date                             0\n",
       "time                             0\n",
       "borough                     305443\n",
       "latitude                         0\n",
       "longitude                        0\n",
       "location                         0\n",
       "num_persons_injured              0\n",
       "num_persons_killed               0\n",
       "num_pedestrians_injured          0\n",
       "num_pedestrians_killed           0\n",
       "num_cyclist_injured              0\n",
       "num_cyclist_killed               0\n",
       "num_motorist_injured             0\n",
       "num_motorist_killed              0\n",
       "collision_id                     0\n",
       "contrib_factor_vehicle_1         0\n",
       "contrib_factor_vehicle_2         0\n",
       "vehicle_type_1                   0\n",
       "vehicle_type_2                   0\n",
       "dtype: int64"
      ]
     },
     "execution_count": 9,
     "metadata": {},
     "output_type": "execute_result"
    }
   ],
   "source": [
    "# check for missing values\n",
    "vc.isnull().sum()\n",
    "# no missing values that we need to handle"
   ]
  },
  {
   "cell_type": "markdown",
   "id": "8c2fbf90",
   "metadata": {},
   "source": [
    "#### Duplicates Check"
   ]
  },
  {
   "cell_type": "code",
   "execution_count": 11,
   "id": "6dd59228",
   "metadata": {},
   "outputs": [
    {
     "data": {
      "text/plain": [
       "(927852,)"
      ]
     },
     "execution_count": 11,
     "metadata": {},
     "output_type": "execute_result"
    }
   ],
   "source": [
    "dups= vc.duplicated()\n",
    "dups.shape\n",
    "# No Duplicates"
   ]
  },
  {
   "cell_type": "markdown",
   "id": "d7facdd1",
   "metadata": {},
   "source": [
    "#### Extreme Values Check"
   ]
  },
  {
   "cell_type": "code",
   "execution_count": 14,
   "id": "10549c52",
   "metadata": {},
   "outputs": [
    {
     "name": "stderr",
     "output_type": "stream",
     "text": [
      "/Users/alexmendrin/opt/anaconda3/lib/python3.9/site-packages/seaborn/distributions.py:2619: FutureWarning: `distplot` is a deprecated function and will be removed in a future version. Please adapt your code to use either `displot` (a figure-level function with similar flexibility) or `histplot` (an axes-level function for histograms).\n",
      "  warnings.warn(msg, FutureWarning)\n"
     ]
    },
    {
     "data": {
      "text/plain": [
       "<AxesSubplot:xlabel='contrib_factor_vehicle_1', ylabel='Density'>"
      ]
     },
     "execution_count": 14,
     "metadata": {},
     "output_type": "execute_result"
    },
    {
     "data": {
      "image/png": "[encoded data removed]",
      "text/plain": [
       "<Figure size 432x288 with 1 Axes>"
      ]
     },
     "metadata": {
      "needs_background": "light"
     },
     "output_type": "display_data"
    }
   ],
   "source": [
    "sns.distplot(vc['contrib_factor_vehicle_1'], bins=7)\n",
    "# There are no extreme values because the values are not continuous"
   ]
  },
  {
   "cell_type": "code",
   "execution_count": 15,
   "id": "a1468dd5",
   "metadata": {},
   "outputs": [
    {
     "name": "stderr",
     "output_type": "stream",
     "text": [
      "/Users/alexmendrin/opt/anaconda3/lib/python3.9/site-packages/seaborn/distributions.py:2619: FutureWarning: `distplot` is a deprecated function and will be removed in a future version. Please adapt your code to use either `displot` (a figure-level function with similar flexibility) or `histplot` (an axes-level function for histograms).\n",
      "  warnings.warn(msg, FutureWarning)\n"
     ]
    },
    {
     "data": {
      "text/plain": [
       "<AxesSubplot:xlabel='vehicle_type_1', ylabel='Density'>"
      ]
     },
     "execution_count": 15,
     "metadata": {},
     "output_type": "execute_result"
    },
    {
     "data": {
      "image/png": "[encoded data removed]",
      "text/plain": [
       "<Figure size 432x288 with 1 Axes>"
      ]
     },
     "metadata": {
      "needs_background": "light"
     },
     "output_type": "display_data"
    }
   ],
   "source": [
    "sns.distplot(vc['vehicle_type_1'], bins=9)\n",
    "# There are no extreme values because the values are not continuous"
   ]
  },
  {
   "cell_type": "markdown",
   "id": "8071aa20",
   "metadata": {},
   "source": [
    "# 03. Data Prep for Regression Analysis"
   ]
  },
  {
   "cell_type": "code",
   "execution_count": 16,
   "id": "8f093d38",
   "metadata": {
    "scrolled": true
   },
   "outputs": [
    {
     "data": {
      "image/png": "[encoded data removed]",
      "text/plain": [
       "<Figure size 432x288 with 1 Axes>"
      ]
     },
     "metadata": {
      "needs_background": "light"
     },
     "output_type": "display_data"
    }
   ],
   "source": [
    "# Create a scatterplot using matplotlib for another look at how the chosen variables plot against each other.\n",
    "\n",
    "vc.plot(x = 'vehicle_type_2', y='num_pedestrians_injured',style='o') # The style option creates a scatterplot; without it, we only have lines.\n",
    "plt.title('Secondary vehicle type vs number of pedestrians injured')  \n",
    "plt.xlabel('Secondary Vehicle Type')  \n",
    "plt.ylabel('Number of Pedestrians Injured')  \n",
    "plt.show()"
   ]
  },
  {
   "cell_type": "markdown",
   "id": "fa23b350",
   "metadata": {},
   "source": [
    "#### Hypothesis: An accident where a larger number of pedestrians are injured involve a 3 or 9 secondary vehicle type."
   ]
  },
  {
   "cell_type": "code",
   "execution_count": 18,
   "id": "8c6549ae",
   "metadata": {},
   "outputs": [],
   "source": [
    "# Reshape the variables into NumPy arrays and put them into separate objects\n",
    "\n",
    "X= vc['vehicle_type_2'].values.reshape(-1,1)\n",
    "y= vc['num_pedestrians_injured'].values.reshape(-1,1)"
   ]
  },
  {
   "cell_type": "code",
   "execution_count": 19,
   "id": "45bc9154",
   "metadata": {},
   "outputs": [
    {
     "data": {
      "text/plain": [
       "array([[9.],\n",
       "       [9.],\n",
       "       [6.],\n",
       "       ...,\n",
       "       [3.],\n",
       "       [3.],\n",
       "       [3.]])"
      ]
     },
     "execution_count": 19,
     "metadata": {},
     "output_type": "execute_result"
    }
   ],
   "source": [
    "X"
   ]
  },
  {
   "cell_type": "code",
   "execution_count": 20,
   "id": "2525b283",
   "metadata": {},
   "outputs": [
    {
     "data": {
      "text/plain": [
       "array([[0],\n",
       "       [0],\n",
       "       [0],\n",
       "       ...,\n",
       "       [0],\n",
       "       [0],\n",
       "       [0]])"
      ]
     },
     "execution_count": 20,
     "metadata": {},
     "output_type": "execute_result"
    }
   ],
   "source": [
    "y"
   ]
  },
  {
   "cell_type": "code",
   "execution_count": 21,
   "id": "4a737262",
   "metadata": {},
   "outputs": [],
   "source": [
    "# Split data into a training and test set\n",
    "\n",
    "X_train, X_test, y_train, y_test = train_test_split(X, y, test_size=0.3, random_state=0)"
   ]
  },
  {
   "cell_type": "markdown",
   "id": "174973a5",
   "metadata": {},
   "source": [
    "# 04. Regression Analysis"
   ]
  },
  {
   "cell_type": "code",
   "execution_count": 22,
   "id": "f8a9d2bf",
   "metadata": {},
   "outputs": [],
   "source": [
    "# Create a regression object.\n",
    "\n",
    "regression = LinearRegression()  # This is the regression object, which will be fit onto the training set."
   ]
  },
  {
   "cell_type": "code",
   "execution_count": 23,
   "id": "ab26b040",
   "metadata": {},
   "outputs": [
    {
     "data": {
      "text/plain": [
       "LinearRegression()"
      ]
     },
     "execution_count": 23,
     "metadata": {},
     "output_type": "execute_result"
    }
   ],
   "source": [
    "# Fit the regression object onto the training set.\n",
    "\n",
    "regression.fit(X_train, y_train)"
   ]
  },
  {
   "cell_type": "code",
   "execution_count": 24,
   "id": "33dc0c81",
   "metadata": {},
   "outputs": [],
   "source": [
    "# Predict the values of y using X\n",
    "\n",
    "y_predicted= regression.predict(X_test)"
   ]
  },
  {
   "cell_type": "code",
   "execution_count": 25,
   "id": "c79ac725",
   "metadata": {
    "scrolled": true
   },
   "outputs": [
    {
     "data": {
      "image/png": "[encoded data removed]",
      "text/plain": [
       "<Figure size 432x288 with 1 Axes>"
      ]
     },
     "metadata": {
      "needs_background": "light"
     },
     "output_type": "display_data"
    }
   ],
   "source": [
    "# Create a plot that shows the regression line from the model on the test set.\n",
    "\n",
    "plot_test = plt\n",
    "plot_test.scatter(X_test, y_test, color='gray', s = 15)\n",
    "plot_test.plot(X_test, y_predicted, color='red', linewidth =3)\n",
    "plot_test.title('Secondary vehicle type vs number of pedestrians injured (Test set)')\n",
    "plot_test.xlabel('Secondary vehicle type')\n",
    "plot_test.ylabel('Number of Pedestrians Injured')\n",
    "plot_test.show()"
   ]
  },
  {
   "cell_type": "markdown",
   "id": "67c79cef",
   "metadata": {},
   "source": [
    "#### There are consistently 0 pedestrians injured in a vehicular accident no matter what the secondary vehicle type is."
   ]
  },
  {
   "cell_type": "code",
   "execution_count": 26,
   "id": "23404518",
   "metadata": {},
   "outputs": [],
   "source": [
    "# Create objects that contain the model summary statistics.\n",
    "\n",
    "rmse = mean_squared_error(y_test, y_predicted) # This is the mean squared error\n",
    "r2 = r2_score(y_test, y_predicted) # This is the R2 score. "
   ]
  },
  {
   "cell_type": "code",
   "execution_count": 27,
   "id": "86176f22",
   "metadata": {
    "scrolled": true
   },
   "outputs": [
    {
     "name": "stdout",
     "output_type": "stream",
     "text": [
      "Slope: [[0.032813]]\n",
      "Mean squared error:  0.050780566315622236\n",
      "R2 score:  0.1311829540602064\n"
     ]
    }
   ],
   "source": [
    "# Print the model summary statistics. This is where you evaluate the performance of the model.\n",
    "\n",
    "print('Slope:' ,regression.coef_)\n",
    "print('Mean squared error: ', rmse)\n",
    "print('R2 score: ', r2)"
   ]
  },
  {
   "cell_type": "markdown",
   "id": "e013e94f",
   "metadata": {},
   "source": [
    "\n",
    ">#### Slope is .03, indicating that it is a near horizontal line, which goes with the fact that all vehicle types are represented equally with how many pedestrians are typically injured in an accident\n",
    ">#### MSE: 0.05, This indicates that the regression line lies very close to the data points, which would indicate a good fit, however...\n",
    ">#### R2 score: 0.13, The R2 is very close to 0, indicating that there is alot of variance in the data and it is not a good fit"
   ]
  },
  {
   "cell_type": "markdown",
   "id": "da4060a4",
   "metadata": {},
   "source": [
    "#### Overall, the regression line does not fit the dataframe very well, which could be because the vehicle type values are more catagorical, and because there is not a defined trend amongst the data points.\n",
    "#### This is a large dataset so there are plenty of data points to work with and the only extreme value is in vehicle type 9, where there are over 25 people who were injured in one incident."
   ]
  },
  {
   "cell_type": "code",
   "execution_count": 28,
   "id": "c5d2a769",
   "metadata": {},
   "outputs": [
    {
     "data": {
      "text/plain": [
       "array([[ 0.19650928],\n",
       "       [-0.0003687 ],\n",
       "       [-0.0003687 ],\n",
       "       ...,\n",
       "       [ 0.09807029],\n",
       "       [ 0.19650928],\n",
       "       [-0.0003687 ]])"
      ]
     },
     "execution_count": 28,
     "metadata": {},
     "output_type": "execute_result"
    }
   ],
   "source": [
    "y_predicted"
   ]
  },
  {
   "cell_type": "code",
   "execution_count": 32,
   "id": "cba2683d",
   "metadata": {},
   "outputs": [
    {
     "ename": "AttributeError",
     "evalue": "'DataFrame' object has no attribute 'DataFrame'",
     "output_type": "error",
     "traceback": [
      "\u001b[0;31m---------------------------------------------------------------------------\u001b[0m",
      "\u001b[0;31mAttributeError\u001b[0m                            Traceback (most recent call last)",
      "Input \u001b[0;32mIn [32]\u001b[0m, in \u001b[0;36m<cell line: 3>\u001b[0;34m()\u001b[0m\n\u001b[1;32m      1\u001b[0m \u001b[38;5;66;03m# Create a dataframe comparing the actual and predicted values of y.\u001b[39;00m\n\u001b[0;32m----> 3\u001b[0m data \u001b[38;5;241m=\u001b[39m \u001b[43mvc\u001b[49m\u001b[38;5;241;43m.\u001b[39;49m\u001b[43mDataFrame\u001b[49m({\u001b[38;5;124m'\u001b[39m\u001b[38;5;124mActual\u001b[39m\u001b[38;5;124m'\u001b[39m: y_test\u001b[38;5;241m.\u001b[39mflatten(), \u001b[38;5;124m'\u001b[39m\u001b[38;5;124mPredicted\u001b[39m\u001b[38;5;124m'\u001b[39m: y_predicted\u001b[38;5;241m.\u001b[39mflatten()})\n\u001b[1;32m      4\u001b[0m data\u001b[38;5;241m.\u001b[39mhead(\u001b[38;5;241m30\u001b[39m)\n",
      "File \u001b[0;32m~/opt/anaconda3/lib/python3.9/site-packages/pandas/core/generic.py:5575\u001b[0m, in \u001b[0;36mNDFrame.__getattr__\u001b[0;34m(self, name)\u001b[0m\n\u001b[1;32m   5568\u001b[0m \u001b[38;5;28;01mif\u001b[39;00m (\n\u001b[1;32m   5569\u001b[0m     name \u001b[38;5;129;01mnot\u001b[39;00m \u001b[38;5;129;01min\u001b[39;00m \u001b[38;5;28mself\u001b[39m\u001b[38;5;241m.\u001b[39m_internal_names_set\n\u001b[1;32m   5570\u001b[0m     \u001b[38;5;129;01mand\u001b[39;00m name \u001b[38;5;129;01mnot\u001b[39;00m \u001b[38;5;129;01min\u001b[39;00m \u001b[38;5;28mself\u001b[39m\u001b[38;5;241m.\u001b[39m_metadata\n\u001b[1;32m   5571\u001b[0m     \u001b[38;5;129;01mand\u001b[39;00m name \u001b[38;5;129;01mnot\u001b[39;00m \u001b[38;5;129;01min\u001b[39;00m \u001b[38;5;28mself\u001b[39m\u001b[38;5;241m.\u001b[39m_accessors\n\u001b[1;32m   5572\u001b[0m     \u001b[38;5;129;01mand\u001b[39;00m \u001b[38;5;28mself\u001b[39m\u001b[38;5;241m.\u001b[39m_info_axis\u001b[38;5;241m.\u001b[39m_can_hold_identifiers_and_holds_name(name)\n\u001b[1;32m   5573\u001b[0m ):\n\u001b[1;32m   5574\u001b[0m     \u001b[38;5;28;01mreturn\u001b[39;00m \u001b[38;5;28mself\u001b[39m[name]\n\u001b[0;32m-> 5575\u001b[0m \u001b[38;5;28;01mreturn\u001b[39;00m \u001b[38;5;28;43mobject\u001b[39;49m\u001b[38;5;241;43m.\u001b[39;49m\u001b[38;5;21;43m__getattribute__\u001b[39;49m\u001b[43m(\u001b[49m\u001b[38;5;28;43mself\u001b[39;49m\u001b[43m,\u001b[49m\u001b[43m \u001b[49m\u001b[43mname\u001b[49m\u001b[43m)\u001b[49m\n",
      "\u001b[0;31mAttributeError\u001b[0m: 'DataFrame' object has no attribute 'DataFrame'"
     ]
    }
   ],
   "source": [
    "# Create a dataframe comparing the actual and predicted values of y.\n",
    "\n",
    "data = vc.DataFrame({'Actual': y_test.flatten(), 'Predicted': y_predicted.flatten()})\n",
    "data.head(30)"
   ]
  },
  {
   "cell_type": "markdown",
   "id": "7ac8cc05",
   "metadata": {},
   "source": [
    "#### I keep getting this error when I try to compare the test and train y-values, and I'm not sure how to go about fixing it."
   ]
  },
  {
   "cell_type": "markdown",
   "id": "b62aba9f",
   "metadata": {},
   "source": [
    "#### Compare how the regression fits the training set"
   ]
  },
  {
   "cell_type": "code",
   "execution_count": 33,
   "id": "58264ed5",
   "metadata": {},
   "outputs": [],
   "source": [
    "# Predict.\n",
    "\n",
    "y_predicted_train = regression.predict(X_train) # This is predicting X_train!"
   ]
  },
  {
   "cell_type": "code",
   "execution_count": 34,
   "id": "2739bd71",
   "metadata": {},
   "outputs": [],
   "source": [
    "rmse = mean_squared_error(y_train, y_predicted_train)\n",
    "r2 = r2_score(y_train, y_predicted_train)"
   ]
  },
  {
   "cell_type": "code",
   "execution_count": 35,
   "id": "ec9d66ea",
   "metadata": {},
   "outputs": [
    {
     "name": "stdout",
     "output_type": "stream",
     "text": [
      "Slope: [[0.032813]]\n",
      "Mean squared error:  0.05208978707104379\n",
      "R2 score:  0.12600102637954946\n"
     ]
    }
   ],
   "source": [
    "print('Slope:' ,regression.coef_)\n",
    "print('Mean squared error: ', rmse)\n",
    "print('R2 score: ', r2)"
   ]
  },
  {
   "cell_type": "code",
   "execution_count": 36,
   "id": "8a5000e2",
   "metadata": {},
   "outputs": [
    {
     "data": {
      "image/png": "[encoded data removed]",
      "text/plain": [
       "<Figure size 432x288 with 1 Axes>"
      ]
     },
     "metadata": {
      "needs_background": "light"
     },
     "output_type": "display_data"
    }
   ],
   "source": [
    "# Visualizing the training set results.\n",
    "\n",
    "plot_test = plt\n",
    "plot_test.scatter(X_train, y_train, color='green', s = 15)\n",
    "plot_test.plot(X_train, y_predicted_train, color='red', linewidth =3)\n",
    "plot_test.title('Secondary vehicle type vs number of pedestrians injured (Train set)')\n",
    "plot_test.xlabel('Secondary vehicle type')\n",
    "plot_test.ylabel('Number ofPedestrians Injured')\n",
    "plot_test.show()"
   ]
  },
  {
   "cell_type": "code",
   "execution_count": null,
   "id": "bba40c5a",
   "metadata": {},
   "outputs": [],
   "source": []
  }
 ],
 "metadata": {
  "kernelspec": {
   "display_name": "Python 3 (ipykernel)",
   "language": "python",
   "name": "python3"
  },
  "language_info": {
   "codemirror_mode": {
    "name": "ipython",
    "version": 3
   },
   "file_extension": ".py",
   "mimetype": "text/x-python",
   "name": "python",
   "nbconvert_exporter": "python",
   "pygments_lexer": "ipython3",
   "version": "3.9.12"
  }
 },
 "nbformat": 4,
 "nbformat_minor": 5
}
